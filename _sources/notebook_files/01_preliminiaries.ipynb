{
 "cells": [
  {
   "cell_type": "markdown",
   "metadata": {},
   "source": [
    "# Preliminaries in Programing, Math and Statistics\n",
    "\n",
    "Even though programing is traditionally not a core competency for students in economics and finance, it has become important to be familiar with data oriented software and its languages. According to google searches for programing language tutorials, Python is by far the most used programing language at the time of writing (December 2020). Among the many benefits of Python is its free availability and the existence of many high quality libraries and packages for data analysis. Of course, very reasonable alternatives to Python exist, e.g., R, Julia, Matlab, ..., however, we will conduct all our analyses with the use of Python in this book. Even though, a multitude of great Python introductions and tutorials exist, I try to give the reader a short introduction which may suffice to follow examples in this book. In general, I strongly recommend to learn Python by conducting your own analyses. Naturally, problems will occur and solving these problems is the best and fastest way to become a well skilled Python user.\n",
    "\n",
    "Data analysis is obviously data driven and data is mainly represented by numbers. Math and statistics are, among many things, doctrines for the use of numbers. Of course, we do not need to become experts in all fields of math and statistics, but some are essential to understand the concepts of data analysis. Often, data is structured and stored in tabular form. This is why linear algebra and, in particular, matrix calculus is fundamental for the use of data. Moreover, many data models are adjusted to observed data via (numerical) optimization methods which are based on differential calculus. Furthermore, the financial area is exposed to a high amount of randomness. For instance, spending a certain amount of money for marketing does not lead to deterministic levels of revenue or knowing today's financial situation and balance sheet information of a company is not enough to know its future stock price. Wherever there is randomness, probability calculus is your friend. \n",
    "\n",
    "In this chapter, we will revisit some concepts of math and statistics which I believe are important to know for data analysis. Obviously, this selection is driven by my subjective believe and does not aim for completeness in the sense that all important mathematical and statistical content is revisited.\n",
    "\n",
    "**Attention**: Please do not feel overwhelmed by the presentation of mathematical and statistical content. Depending on your background and your progress during your studies, these concepts might be new and advanced or explained in a shortened ways. What is presented is simply a collection of methods which I think are necessary if your aim is to deeply understand sophisticated methods of data analysis. You may skip the repetition of these concepts and come back if you have the feeling your knowledge of mathematical and statistical concepts is not enough to understand the main content of this book. If the presentation in this chapter is not detailed enough for your, you may want to study these methods with the help of common text books. "
   ]
  }
 ],
 "metadata": {
  "kernelspec": {
   "display_name": "Python 3",
   "language": "python",
   "name": "python3"
  },
  "language_info": {
   "codemirror_mode": {
    "name": "ipython",
    "version": 3
   },
   "file_extension": ".py",
   "mimetype": "text/x-python",
   "name": "python",
   "nbconvert_exporter": "python",
   "pygments_lexer": "ipython3",
   "version": "3.8.3"
  }
 },
 "nbformat": 4,
 "nbformat_minor": 4
}
