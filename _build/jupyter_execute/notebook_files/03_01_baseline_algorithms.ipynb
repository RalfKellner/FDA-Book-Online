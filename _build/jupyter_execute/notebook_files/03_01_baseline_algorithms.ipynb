{
 "cells": [
  {
   "cell_type": "markdown",
   "metadata": {},
   "source": [
    "# Baseline algorithms\n",
    "\n",
    "For each learning problem, we will follow the same procedure. \n",
    "\n",
    "* How do we generate predictions for the target variable - we refer to this as the (learning) algorithm\n",
    "* How do we estimate the parameters of the algorithm - estimated parameters and the algorithm is what we call the model\n",
    "* How do we identify feature importance - so what are the most important variables for the target variable\n",
    "\n",
    "## Linear Regression\n",
    "\n",
    "For regression problems, the target variable is on a metric scale. When using linear regression, the aim is to predict values for $Y_i$, given a linear relationship between $Y_i$ and features $\\boldsymbol{X}_i = (X_{i1}, ..., X_{in})$. The regression line is given by:\n",
    "\n",
    "$$\n",
    "f_{\\boldsymbol{w}, b}(\\boldsymbol{X}_i) = \\boldsymbol{w}^T \\boldsymbol{X}_{i} + b = w_1 \\cdot X_{i1} + ... + w_n \\cdot X_{in} + b\n",
    "\\label{linear_regression}\\tag{1}\n",
    "$$ \n",
    "\n",
    "where $\\boldsymbol{w} \\in \\mathbb{R}^n, b \\in \\mathbb{R}$ are parameters that need to be estimated. In its simplest form with one feature, the regression line looks like:"
   ]
  },
  {
   "cell_type": "code",
   "execution_count": 1,
   "metadata": {
    "tags": [
     "hide-input"
    ]
   },
   "outputs": [
    {
     "data": {
      "image/png": "[encoded data removed]",
      "text/plain": [
       "<Figure size 432x288 with 1 Axes>"
      ]
     },
     "metadata": {
      "filenames": {
       "image/png": "/Users/ralfkellner/Library/Mobile Documents/com~apple~CloudDocs/Python/Module/FinDataAnalytics/FinDataAnalytics-JB/_build/jupyter_execute/notebook_files/03_01_baseline_algorithms_1_0.png"
      },
      "needs_background": "light"
     },
     "output_type": "display_data"
    }
   ],
   "source": [
    "import matplotlib.pylab as plt\n",
    "import numpy as np\n",
    "\n",
    "x = np.linspace(-5, 5, 500)\n",
    "y = 0.2 + 1.3 * x\n",
    "\n",
    "plt.plot(x, y)\n",
    "plt.xlabel(r'$x$')\n",
    "plt.ylabel(r'$y$')\n",
    "plt.show()"
   ]
  },
  {
   "cell_type": "markdown",
   "metadata": {},
   "source": [
    "However, the regression model is not as limited as it seems. It can be transformed into a model which is able to capture non-linear relationships as well, e.g, by transforming and adding features. For instance, features can be raised to higher powers which results in a polynomial regression. Adding $X^2$ to the univariate regression line, the regression is given by:\n",
    "\n",
    "$$\n",
    "f_{\\boldsymbol{w}, b}(\\boldsymbol{X}_i) = w_1 \\cdot X_i + w_2 \\cdot X_i^2 + b\n",
    "$$\n",
    "\n",
    "And looks like:"
   ]
  },
  {
   "cell_type": "code",
   "execution_count": 2,
   "metadata": {
    "tags": [
     "hide-input"
    ]
   },
   "outputs": [
    {
     "data": {
      "image/png": "[encoded data removed]",
      "text/plain": [
       "<Figure size 432x288 with 1 Axes>"
      ]
     },
     "metadata": {
      "filenames": {
       "image/png": "/Users/ralfkellner/Library/Mobile Documents/com~apple~CloudDocs/Python/Module/FinDataAnalytics/FinDataAnalytics-JB/_build/jupyter_execute/notebook_files/03_01_baseline_algorithms_3_0.png"
      },
      "needs_background": "light"
     },
     "output_type": "display_data"
    }
   ],
   "source": [
    "import matplotlib.pylab as plt\n",
    "import numpy as np\n",
    "\n",
    "x = np.linspace(-5, 5, 500)\n",
    "y = 0.2 + 1.3 * x + 0.2 * x**2\n",
    "\n",
    "plt.plot(x, y)\n",
    "plt.xlabel(r'$x$')\n",
    "plt.ylabel(r'$y$')\n",
    "plt.show()"
   ]
  },
  {
   "cell_type": "markdown",
   "metadata": {},
   "source": [
    "### Estimation\n",
    "\n",
    "This is solved by minimizing squared deviations between predictions according to Equation <a href=\"#mjx-eqn-linear_regression\">1</a>  and observed values $y_i$. Thus, the function to be minimized by calibrating the model parameters is:\n",
    "\n",
    "$$\n",
    "L(\\boldsymbol{w}^T, b) = \\sum_{i = 1}^m \\left( y_i - \\boldsymbol{w}^T \\boldsymbol{x}_i - b \\right)^2\n",
    "$$\n",
    "\n",
    "This function is often called the **loss function** or the **cost function**. The optimization problem can be solved analytically. This means a closed form solution exists that returns parameter estimates if we insert observed data into a formula. In general you do not need to worry about the derivation of such solutions because you will estimate all models with Python packages. These packages either include a closed form solution, if it exists, or apply a numerical solution technique under the hood. Nevertheless, I think it is beneficial to get an idea how we would solve the optimization problem by ourselves. \n",
    "\n",
    "Let us take a look at the univariate linear regression model. To derive parameter estimates for a random sample $\\lbrace y_i, x_i \\rbrace_{i = 1}^m$ we minimize:\n",
    "\n",
    "$$\n",
    "L(w, b) = \\sum_{i = 1}^m \\left( y_i - w \\cdot x_i - b \\right)^2\n",
    "$$\n",
    "\n",
    "We follow basic calculus and derive stationary points as candidates for the minima. To do so, we need the gradient, i.e., partial derivatives of the loss function with respect to the parameters, set them to zero and search for the roots of these equations.\n",
    "\n",
    "$$\n",
    "\\frac{\\partial L(w, b)}{\\partial w} = -2 \\sum_{i = 1}^m \\left( y_i - w \\cdot x_i - b \\right) \\cdot x_i  \\overset{!}{=} 0 \n",
    "$$\n",
    "\n",
    "$$\n",
    "\\frac{\\partial L(w, b)}{\\partial b} = -2 \\sum_{i = 1}^m \\left( y_i - w \\cdot x_i - b \\right)  \\overset{!}{=} 0\n",
    "$$\n",
    "\n",
    "The solution of this equation system delivers estimators for $w$ and $b$:\n",
    "\n",
    "$$\n",
    "\\hat{w} = \\frac{\\sum_i (x_i - \\bar{x})(y_i - \\bar{y})}{\\sum_i (x_i - \\bar{x})^2}\n",
    "$$\n",
    "\n",
    "$$\n",
    "\\hat{b} = \\bar{y} - \\hat{w} \\bar{x}\n",
    "$$\n",
    "\n",
    "For completeness, it also needs to be analyzed whether the solution is a minimum, which is the case. \n",
    "\n",
    "This simply should show you that sometimes closed form solutions can be derived by simple mathematical methods. However, especially for more complex models this will not be the case. If we find ourselves in such a situation, the packages we use will use numerical solution techniques which in many cases use the information of the gradient. One of the most popular methods is the **gradient decent**. To understand how it works, we make it as easy as possible. Assume we only have one pair $(y = 3, x = 2)$. Our aim is to find the parameter $w$ which minimizes:\n",
    "\n",
    "$$\n",
    "L(w) = (y - w \\cdot x)^2 = (3 - w \\cdot 2)^2\n",
    "$$\n",
    "\n",
    "Visually, we want to find the slope of the regression line which starts in the origin and crosses the point as can be seen in the figure below."
   ]
  },
  {
   "cell_type": "code",
   "execution_count": 3,
   "metadata": {
    "tags": [
     "hide-input"
    ]
   },
   "outputs": [
    {
     "data": {
      "image/png": "[encoded data removed]",
      "text/plain": [
       "<Figure size 432x288 with 1 Axes>"
      ]
     },
     "metadata": {
      "filenames": {
       "image/png": "/Users/ralfkellner/Library/Mobile Documents/com~apple~CloudDocs/Python/Module/FinDataAnalytics/FinDataAnalytics-JB/_build/jupyter_execute/notebook_files/03_01_baseline_algorithms_5_0.png"
      },
      "needs_background": "light"
     },
     "output_type": "display_data"
    }
   ],
   "source": [
    "import matplotlib.pylab as plt\n",
    "import numpy as np\n",
    "\n",
    "plt.scatter(2, 3)\n",
    "plt.plot([0, 2],[0, 3])\n",
    "plt.xlim(0,3)\n",
    "plt.ylim(0,5)\n",
    "plt.show()"
   ]
  },
  {
   "cell_type": "markdown",
   "metadata": {},
   "source": [
    "We can see that the solution is given by $w = 1.5$. But let us take a look how we would find this solution with the numerical method gradient decent. As the name suggests, gradient descent makes use of the gradient of the function with respect to unknown parameter. For our example the gradient is:\n",
    "\n",
    "$$\n",
    "\\frac{\\partial L(w)}{\\partial w} = -4(3 - 2w) = 8 w - 12\n",
    "$$\n",
    "\n",
    "Let us take a look at the loss function, for values of $w \\in [-1, 4]$:"
   ]
  },
  {
   "cell_type": "code",
   "execution_count": 4,
   "metadata": {
    "tags": [
     "hide-input"
    ]
   },
   "outputs": [
    {
     "data": {
      "image/png": "[encoded data removed]",
      "text/plain": [
       "<Figure size 432x288 with 1 Axes>"
      ]
     },
     "metadata": {
      "filenames": {
       "image/png": "/Users/ralfkellner/Library/Mobile Documents/com~apple~CloudDocs/Python/Module/FinDataAnalytics/FinDataAnalytics-JB/_build/jupyter_execute/notebook_files/03_01_baseline_algorithms_7_0.png"
      },
      "needs_background": "light"
     },
     "output_type": "display_data"
    }
   ],
   "source": [
    "import matplotlib.pylab as plt\n",
    "import numpy as np\n",
    "\n",
    "w = np.linspace(-1, 4, 500)\n",
    "plt.plot(w, (3 - w * 2)**2)\n",
    "plt.xlabel(r'$w$')\n",
    "plt.ylabel(r'$L(w)$')\n",
    "plt.show()"
   ]
  },
  {
   "cell_type": "markdown",
   "metadata": {},
   "source": [
    "The value of the derivative at a given value for $w$ is the slope of the tangent at this point. For instance, if we insert $w = 2$ the derivative equals $4$ or for $w = 0.5$ it results $-8$. This value is quite informative because it guides us the direction towards the next stationary point of a function, in our case towards the minimum. Let us take a look at the visualized derivatives in the figure below."
   ]
  },
  {
   "cell_type": "code",
   "execution_count": 5,
   "metadata": {
    "tags": [
     "hide-input"
    ]
   },
   "outputs": [
    {
     "data": {
      "image/png": "[encoded data removed]",
      "text/plain": [
       "<Figure size 432x288 with 1 Axes>"
      ]
     },
     "metadata": {
      "filenames": {
       "image/png": "/Users/ralfkellner/Library/Mobile Documents/com~apple~CloudDocs/Python/Module/FinDataAnalytics/FinDataAnalytics-JB/_build/jupyter_execute/notebook_files/03_01_baseline_algorithms_9_0.png"
      },
      "needs_background": "light"
     },
     "output_type": "display_data"
    }
   ],
   "source": [
    "import matplotlib.pylab as plt\n",
    "import numpy as np\n",
    "\n",
    "def L(w): \n",
    "    return (3 - w * 2)**2\n",
    "\n",
    "def slope(w): \n",
    "    return - 4 * (3 - w * 2)\n",
    "\n",
    "   \n",
    "w = np.linspace(-1, 4, 500)\n",
    "plt.plot(w, L(w))\n",
    "plt.plot([1.5, 2.5], [L(2) - slope(2) * 0.5, L(2) + slope(2) * 0.5])\n",
    "plt.plot([0, 1], [L(0.5) - slope(0.5) * 0.5, L(0.5) + slope(0.5) * 0.5])\n",
    "plt.xlabel(r'$w$')\n",
    "plt.ylabel(r'$L(w)$')\n",
    "plt.show()"
   ]
  },
  {
   "cell_type": "markdown",
   "metadata": {},
   "source": [
    "If the derivative is negative we need to increase $w$ (move to the right on the number line) to approach the minimum and that we need to decrease $w$ (move to the left on the number line) if the derivative is positive. When we use the gradient descent method, we go a step into the direction which the gradient tells us. We decide how big the step is by setting the so called **learning rate** $\\eta$. In order to determine a new value for $w$ we assign:\n",
    "\n",
    "$$\n",
    "w \\leftarrow w - \\eta \\cdot \\nabla L(w)\n",
    "$$\n",
    "\n",
    "Before the first step, we need to choose a value for $w$ at which we start our search for the stationary point. Typically, a random value is chosen for $w$. Let us assume, we set $w = 2$ and $\\eta = 0.1$. The first step is:\n",
    "\n",
    "$$\n",
    "w \\leftarrow 2 - 0.1 \\cdot 4 = 2 - 0.4\n",
    "$$\n",
    "\n",
    "So after the first step, $w = 1.6$, in the next step we have:\n",
    "\n",
    "$$\n",
    "w \\leftarrow 1.6 - 0.1 \\cdot 0.8\n",
    "$$\n",
    "\n",
    "So after the second step, $w = 1.52$ which already gets close to the solution $w = 1.5$. Let us take a look how close we get after ten steps."
   ]
  },
  {
   "cell_type": "code",
   "execution_count": 6,
   "metadata": {},
   "outputs": [
    {
     "name": "stdout",
     "output_type": "stream",
     "text": [
      "1.6\n",
      "1.52\n",
      "1.504\n",
      "1.5008\n",
      "1.50016\n",
      "1.500032\n",
      "1.5000064\n",
      "1.50000128\n",
      "1.500000256\n",
      "1.5000000512\n"
     ]
    }
   ],
   "source": [
    "#function for the gradient\n",
    "def grad(w):\n",
    "    return 8 * w - 12\n",
    "\n",
    "#learning rate\n",
    "eta = 0.1\n",
    "#starting value for w\n",
    "w = 2\n",
    "\n",
    "for _ in range(10):\n",
    "    w = w - eta * grad(w)\n",
    "    print(w)"
   ]
  },
  {
   "cell_type": "markdown",
   "metadata": {},
   "source": [
    "You can see, this works. But be aware, choosing the learning rate can be a sensitive task. Setting it too high may lead to divergence which leads away from the solution and setting it too low, may result in a very long lasting estimation process. The learning is called a **hyperparameter**. In contrast to the model parameters, hyperparameters are set by the user and are not estimated. In practice, different values for hyperparameters are tested. We will come back to this at a later time. Now we know what the algorithm looks like and how the model parameters are estimated. Before we talk about the identification of important features, we will simulate data according to a linear regression model and estimate its parameters with the *scikit-learn* package. "
   ]
  },
  {
   "cell_type": "code",
   "execution_count": 7,
   "metadata": {},
   "outputs": [
    {
     "name": "stdout",
     "output_type": "stream",
     "text": [
      "[ 0.50340502 -1.00531832  1.99237973]\n",
      "0.9963949486055903\n"
     ]
    }
   ],
   "source": [
    "import matplotlib.pylab as plt\n",
    "import numpy as np\n",
    "from sklearn.linear_model import LinearRegression\n",
    "\n",
    "#sample size of 1,000 data points\n",
    "m = 1000\n",
    "\n",
    "#parameter values\n",
    "w = np.array([0.5, -1.0, 2.0])\n",
    "b = 1.0\n",
    "\n",
    "#randomly generate feature values for five feature variables \n",
    "np.random.seed(42)\n",
    "X = np.random.normal(size = 3 * m).reshape(m, 3)\n",
    "\n",
    "#generate values for the target and add some random error \n",
    "y = X.dot(w) + b + np.random.normal(size = m, scale = 0.2)\n",
    "\n",
    "#fit the model\n",
    "lin_reg = LinearRegression().fit(X, y)\n",
    "\n",
    "#print estimated parameters for w\n",
    "print(lin_reg.coef_)\n",
    "\n",
    "#print estimated parameter for b\n",
    "print(lin_reg.intercept_)"
   ]
  },
  {
   "cell_type": "markdown",
   "metadata": {},
   "source": [
    "### Feature Importance\n",
    "\n",
    "Lastly, we want to address the question how we can find out which features are most important for the target variable. This is rather easy for the linear regression model because once feature variables are on the same scale, the effect size, i.e., the size of the estimated parameter $w_i$ can be compared and used as an indicator to assess which feature is most relevant to the target variable. Behind this logic stands the idea of marginal effects and the question how much the prediction changes, if the specific feature changes by a (infinitesimal) small amount. Thus, to analyze the marginal impact of the $j$-th feature ($j = 1, ..., n$) for a given observation $i = 1, ..., m$ , we look at:\n",
    "\n",
    "$$\n",
    "\\frac{\\partial \\hat{f}_{\\boldsymbol{w}, b}(\\boldsymbol{x}_{ij})}{\\partial x_{ij}} = w_j\n",
    "$$\n",
    "\n",
    "If we want the importance of the $j$-th feature for all observations $i = 1, ..., m$, we can average individual effects which again results in the estimated parameter of the $j$-th feature:\n",
    "\n",
    "$$\n",
    "\\frac{1}{m} \\sum_{j = 1}^m \\frac{\\partial \\hat{f}_{\\boldsymbol{w}, b}(\\boldsymbol{x}_{ij})}{\\partial x_{ij}} = \\frac{1}{m} \\cdot m \\cdot w_j = w_j\n",
    "$$\n",
    "\n",
    "To compare the importance among features, we can normalize the importance by:\n",
    "\n",
    "$$\n",
    "FI_{x_{j}} = \\frac{w_j}{\\sum_{j = 1}^{n} |w_j|}\n",
    "$$\n",
    "\n",
    "Due to the normalization, the importance of features can be interpreted as percentages. Let us make this more clear with the example above. For the linear regression model, we know that the average marginal effect of the change in the feature is given by its weight from the regression line. Accordingly, feature importance for our example is determined by:"
   ]
  },
  {
   "cell_type": "code",
   "execution_count": 8,
   "metadata": {
    "tags": [
     "hide-input"
    ]
   },
   "outputs": [
    {
     "name": "stdout",
     "output_type": "stream",
     "text": [
      "The relative importance of feature 1 in % is: 14.38\n",
      "The relative importance of feature 2 in % is: -28.71\n",
      "The relative importance of feature 3 in % is: 56.91\n"
     ]
    }
   ],
   "source": [
    "feature_importance = lin_reg.coef_ / np.sum(np.abs(lin_reg.coef_))\n",
    "for i, fi in enumerate(feature_importance):\n",
    "    print(f'The relative importance of feature {i + 1} in % is: {fi * 100:2.2f}')"
   ]
  },
  {
   "cell_type": "markdown",
   "metadata": {},
   "source": [
    "This shows that features with higher weights are more important. The intuition behind this definition is that features which cause higher deviations of the predicted target if they change are most important. As you can see, with the definition above, the sign indicates also the direction of the impact.\n",
    "\n",
    "```{note}\n",
    "Keep in mind that all features need to be brought to the same scale before the model parameters are estimated! This needs to be done to guarantee comparability. We will talk more about standardization in subsequent chapters.\n",
    "```"
   ]
  },
  {
   "cell_type": "markdown",
   "metadata": {},
   "source": [
    "## Logistic Regression\n",
    "\n",
    "Logistic regression can be used for binary classification problems where the target variable has two possible outcomes. In this case, the target $Y_i$ is usually treated as a Bernoulli random variable where $Y_i = 1$ represents one of the two outcomes and $Y_i = 0$ represents the other possibility. One building block of the logistic regression model is the regression line from Equation <a href=\"#mjx-eqn-linear_regression\">1</a>. However the outcome according to Equation <a href=\"#mjx-eqn-linear_regression\">1</a> can take on any value in $\\mathbb{R}$ and not just only $0$ and $1$ which we want to predict. To deal with this problem, the logistic regression model uses a transformation function which maps values from $\\mathbb{R}$ to $[0, 1]$. The function which is used for this purpose is the **logistic** function which is also called the **sigmoid** function and is defined as $\\sigma: \\mathbb{R} \\to [0, 1]$ with:\n",
    "\n",
    "$$\n",
    "\\sigma(z) = \\frac{1}{1 + e^{-z}}\n",
    "$$\n",
    "\n",
    "Please do not get confused with $\\sigma$ as an abbreviation for the standard deviation and $\\sigma()$ as a symbol for the sigmoid function. Using $\\sigma()$ for the sigmoid function is conventional which is why we also do so.\n",
    "\n",
    "This figure displays the sigmoid function:"
   ]
  },
  {
   "cell_type": "code",
   "execution_count": 9,
   "metadata": {
    "tags": [
     "hide-input"
    ]
   },
   "outputs": [
    {
     "data": {
      "image/png": "[encoded data removed]",
      "text/plain": [
       "<Figure size 432x288 with 1 Axes>"
      ]
     },
     "metadata": {
      "filenames": {
       "image/png": "/Users/ralfkellner/Library/Mobile Documents/com~apple~CloudDocs/Python/Module/FinDataAnalytics/FinDataAnalytics-JB/_build/jupyter_execute/notebook_files/03_01_baseline_algorithms_18_0.png"
      },
      "needs_background": "light"
     },
     "output_type": "display_data"
    }
   ],
   "source": [
    "import matplotlib.pylab as plt\n",
    "import numpy as np\n",
    "\n",
    "def my_sigmoid(z):\n",
    "    return 1 / (1 + np.exp(-z))\n",
    "\n",
    "x = np.linspace(-7, 7, 500)\n",
    "y = my_sigmoid(x)\n",
    "\n",
    "plt.plot(x, y)\n",
    "plt.xlabel(r'$z$')\n",
    "plt.ylabel(r'$\\sigma(z)$')\n",
    "plt.show()"
   ]
  },
  {
   "cell_type": "markdown",
   "metadata": {},
   "source": [
    "As you can see the sigmoid function does not return $0$ or $1$, but values in the interval $[0, 1]$. These values can be interpreted as probabilities, i.e., the probability $\\pi_i$ for $P(Y_i = 1)$. Not let us bring together the linear regression line $Z_i = \\boldsymbol{w}^T \\boldsymbol{X}_{i}$ with the sigmoid function which results in the logistic regression algorithm:\n",
    "\n",
    "$$\n",
    "f_{\\boldsymbol{w}, b}(\\boldsymbol{X}_i) = \\frac{1}{1 + e^{- \\left( \\boldsymbol{w}^T \\boldsymbol{X}_i + b \\right)}} = \\frac{1}{1 + e^{- Z_i}}\n",
    "$$\n",
    "\n",
    "It is important to understand that the logistic regression model returns conditional probabilities for $P(Y_i = 1| \\boldsymbol{X}_i)$. This means given parameter estimates and feature values, an individual probability for the target $Y_i$ is returned. Thus, the logistic regression model is not directly a classification model, it is a probability model whose output can be used for classification. This is done by setting a threshold $c$. If $f_{\\boldsymbol{w}, b}(\\boldsymbol{X}_i) > c$ we predict $\\hat{Y}_i = 1$ and if $f_{\\boldsymbol{w}, b}(\\boldsymbol{X}_i) <= c$ we predict $\\hat{Y}_i = 0$. $c$ needs to be chosen by us and does not necessarily need to be $0.5$. The value for $c$ should be set with respect to the specific classification problem.\n",
    "\n",
    "### Estimation\n",
    "\n",
    "Instead of minimizing squared deviations, we will maximize the likelihood of the data. The likelihood is given by the Bernoulli distribution. Let us denote $\\pi_i$ as the probability $P(Y_i = 1| \\boldsymbol{X}_i)$. If $Y_i = 1$, the likelihood of data point $i$ equals $\\pi_i$, and, if  $Y_i = 0$, the likelihood of data point $i$ equals $\\left( 1 - \\pi_i \\right)$. This can be subsumed for one data point by:\n",
    "\n",
    "$$\n",
    "\\pi_i^{y_i} \\cdot (1 - \\pi_i)^{1 - y_i}\n",
    "$$\n",
    "\n",
    "Assuming conditional independence for all data points $y_i|\\boldsymbol{x}_i$, the likelihood of the data sample can be calculated by:\n",
    "\n",
    "$$\n",
    "\\mathcal{L}(\\boldsymbol{w}, b) = \\prod_{i = 1}^{m} \\pi_i^{y_i} \\cdot (1 - \\pi_i)^{1 - y_i}\n",
    "$$\n",
    "\n",
    "and the log-likelihood is:\n",
    "\n",
    "$$\n",
    "\\ln\\left( \\mathcal{L}(\\boldsymbol{w}, b) \\right) = \\sum_{i = 1}^{m} y_i \\ln(\\pi_i) + (1 - y_i) \\ln(1 - \\pi_i)\n",
    "$$\n",
    "\n",
    "Note that instead of maximizing the log-likelihood, we can also minimize the negative log-likelihood such that:\n",
    "\n",
    "$$\n",
    "- \\ln\\left( \\mathcal{L}(\\boldsymbol{w}, b) \\right) = - \\sum_{i = 1}^{m} y_i \\ln(\\pi_i) + (1 - y_i) \\ln(1 - \\pi_i)\n",
    "$$\n",
    "\n",
    "would be the corresponding loss function of the logistic regression problem. In contrast to linear regression, no closed form solution exists and parameters of the logistic regression model need to be estimated by numerical optimization methods, e.g., gradient descent. The negative log-likelihood function is called **binary cross entropy** loss function.\n",
    "\n",
    "### Feature Importance\n",
    "\n",
    "We can take a look at two things, if we want to analyze which features are most important. (1) More conventional for the logistic regression model is to analyze the **log-odds**, (2) again we can derive the gradient of the prediction algorithm with respect to the features. Let us first take a look at the log-odds.\n",
    "\n",
    "They are defined by the natural logarithm of the ratio of the probability $\\pi_i$ and $(1 - \\pi)$. With $Z = \\boldsymbol{w}^T \\boldsymbol{X}_i + b$ and are derived by:\n",
    "\n",
    "$$\n",
    "\\ln \\left( \\frac{\\pi_i}{1 - \\pi_i} \\right) = \\ln \\left( \\frac{ \\frac{1}{1 + e^{-Z}} }{ 1 - \\frac{1}{1 + e^{-Z}}} \\right) = \\ln \\left( \\frac{ \\frac{1}{1 + e^{-Z}} }{\\frac{1 + e^{-Z} - 1}{1 + e^{-Z}}} \\right) = \\ln \\left( \\frac{ \\frac{1}{1 + e^{-Z}} }{\\frac{e^{-Z}}{1 + e^{-Z}}} \\right) = \\ln \\left( \\frac{1}{e^{-Z}} \\right) = Z = \\boldsymbol{w}^T \\boldsymbol{X}_i + b\n",
    "$$\n",
    "\n",
    "This means that the impact of a change in one of the features on the log-odds follows a linear relationship. Assuming all features are standardized, the feature with the biggest weight $w_j$ is most important for the probability prediction of $\\pi_i$ and $(1 - \\pi_i)$, respectively. Note that we can analyze the impact of a change in the features directly on the probability prediction for $\\pi_i$, however, the size of the weights must not be interpreted as for the linear regression model because the relationship between features and the probability prediction is not linear. This can be made clear when looking again at the sigmoid function in the figure above. Non-linear means that an increase in the feature differs regarding what the current value is. In the figure you can see that the value of the sigmoid function changes to a higher degree if $z$ changes in the area around the origin, while a change for very low or high values of $z$ hardly have an effect of the value for the sigmoid function. On the contrary, if a linear relationship exists, the dependent variable always changes to the same degree, no matter where the change of the independent variable occurs.\n",
    "\n",
    "A more general way to analyze which is the most important feature can be conducted as already seen in the last subsection. We can make use of partial derivatives. For a given data point $\\boldsymbol{x}_i = (x_{i1}, ..., x_{in})$, we can derive the partial derivative\n",
    "\n",
    "$$\n",
    "\\frac{\\partial \\hat{f}_{\\boldsymbol{w}, b}(\\boldsymbol{x}_{ij})}{\\partial x_{ij}} = \\frac{\\partial \\hat{\\pi}_i}{\\partial x_{ij}}\n",
    "$$\n",
    "\n",
    "for the $j-$th feature. The idea is to ask the question how much changes the prediction for the probability $\\pi_i$ if the value of the $j-$th feature marginally changes, given fixed parameters $\\boldsymbol{w}, b$ which are usually estimated so $\\hat{\\boldsymbol{w}}, \\hat{b}$. As we are more interested in a general statement, we derive this sensitivity for every data point and average for the $j-$th feature over all observations $i = 1, ..., m$. For a better comparison, we normalize the result of the average sensitivity such that the sum over absolute values sums up to one, i.e., we can interpret feature importance in relative terms. Accordingly, feature importance for the logistic regression can be derived by:\n",
    "\n",
    "$$\n",
    "FI_{x_{j}} = \\frac{1}{C} \\frac{1}{m} \\sum_{i = 1}^m \\frac{\\partial \\hat{\\pi}_i}{\\partial x_{ij}}\n",
    "$$\n",
    "\n",
    "where $C$ ensures $\\sum_{j = 1}^n |FI_{x_{j}}| = 1$. Partial derivatives can be solved by hand for the logistic regression model, but this should not be of a real concern for you, because even if you can not derive it, we will calculate derivatives using Python packages which apply automatic differentiation. Nevertheless, let us quickly take a look, how we can calculate $\\frac{\\partial \\hat{\\pi}_i}{\\partial x_{ij}}$. \n",
    "\n",
    "The derivative of the sigmoid function with respect to its argument $z$ is given by:\n",
    "\n",
    "$$\n",
    "\\frac{\\partial \\sigma}{\\partial z} = \\sigma(z)\\left(1 - \\sigma(z)\\right)\n",
    "$$\n",
    "\n",
    "If you are interested how we derive this, take a look here:\n",
    "\n",
    "\n",
    "$$\\begin{align}\n",
    "\\frac{\\partial \\sigma}{\\partial z} & = & \\frac{\\partial \\left(1 + e^{-z}\\right)^{-1} }{\\partial z} & \\overset{\\text{chain rule}}{=} &  -1 \\cdot \\left(1 + e^{-z}\\right)^{-2} e^{-z} (-1) & = & &\\\\\n",
    " & = & \\frac{e^{-z}}{\\left(1 + e^{-z}\\right)^{2}} & \\overset{\\text{rearrange}}{=} & \\frac{e^{-z}}{\\left(1 + e^{-z}\\right)\\left(1 + e^{-z}\\right)} & = & \\frac{1}{\\left(1 + e^{-z}\\right)}\\frac{e^{-z}}{\\left(1 + e^{-z}\\right)} & \\overset{\\text{add and subtract 1}}{=} \\\\\n",
    " & = & \\frac{1}{\\left(1 + e^{-z}\\right)}\\frac{1 + e^{-z} - 1}{\\left(1 + e^{-z}\\right)} & = & \\frac{1}{\\left(1 + e^{-z}\\right)}\\left(1 - \\frac{1}{\\left(1 + e^{-z}\\right)} \\right) & = & \\sigma(z)\\left(1 - \\sigma(z)\\right) & & \n",
    "\\end{align}\n",
    "$$\n",
    "\n",
    "For our model we do not need to differentiate with respect to $z$ but with respect to $x_{ij}$, where $z_i = \\boldsymbol{w}^T \\boldsymbol{x}_t + b$. So we are in need of:\n",
    "\n",
    "$$\n",
    "\\frac{\\partial \\hat{\\pi}_i}{\\partial x_{ij}}\n",
    "$$\n",
    "\n",
    "Fortunately, with the chain rule, this can be easily derived by means of the derivative of the sigmoid function, i.e.:\n",
    "\n",
    "$$\n",
    "\\frac{\\partial \\hat{\\pi}_i}{\\partial x_{ij}} = \\frac{\\partial \\hat{\\pi}_i}{\\partial \\sigma{\\hat{z}_i}}  \\frac{\\partial \\hat{z}_i}{\\partial x_{ij}} = \\sigma(\\hat{z}_i)\\left(\\sigma(1 - \\hat{z}_i)\\right) \\hat{w}_j\n",
    "$$\n",
    "\n",
    "To better understand the model, estimation and the concept of feature importance take a look at the example in the code below."
   ]
  },
  {
   "cell_type": "code",
   "execution_count": 10,
   "metadata": {},
   "outputs": [
    {
     "name": "stdout",
     "output_type": "stream",
     "text": [
      "[[ 1.22911965 -0.91260803  0.13970364]]\n",
      "[0.60558187]\n"
     ]
    }
   ],
   "source": [
    "import jax.numpy as jnp\n",
    "from jax import grad\n",
    "import numpy as np\n",
    "from sklearn.linear_model import LogisticRegression\n",
    "\n",
    "\n",
    "#sample size of 1,000 data points\n",
    "m = 1000\n",
    "\n",
    "#parameter values\n",
    "w = np.array([1.2, -0.7, 0.2])\n",
    "b = 0.5\n",
    "\n",
    "#randomly generate feature values for three feature variables \n",
    "np.random.seed(42)\n",
    "X = np.random.normal(size = 3 * m).reshape(m, 3)\n",
    "\n",
    "#now we generate values for the probabilities of P(Y_i = 1) \n",
    "z = X.dot(w) + b \n",
    "pi = 1 / (1 + np.exp(-z))\n",
    "\n",
    "#draw random Bernoulli numbers according to these probabilities\n",
    "y = np.random.binomial(n = 1, p = pi)\n",
    "\n",
    "#fit the model\n",
    "log_reg = LogisticRegression().fit(X, y)\n",
    "\n",
    "#print estimated parameters for w\n",
    "print(log_reg.coef_)\n",
    "\n",
    "#print estimated parameter for b\n",
    "print(log_reg.intercept_)"
   ]
  },
  {
   "cell_type": "code",
   "execution_count": 11,
   "metadata": {},
   "outputs": [
    {
     "name": "stderr",
     "output_type": "stream",
     "text": [
      "WARNING:absl:No GPU/TPU found, falling back to CPU. (Set TF_CPP_MIN_LOG_LEVEL=0 and rerun for more info.)\n"
     ]
    },
    {
     "name": "stdout",
     "output_type": "stream",
     "text": [
      "An example for partial derivatives of the first observaion:\n",
      "[ 0.19118567 -0.14195329  0.02173046]\n"
     ]
    },
    {
     "name": "stdout",
     "output_type": "stream",
     "text": [
      "The relative importance of feature 1 in % is: 53.87\n",
      "The relative importance of feature 2 in % is: -40.00\n",
      "The relative importance of feature 3 in % is: 6.12\n"
     ]
    }
   ],
   "source": [
    "#now to understand how we would derive feature importance\n",
    "#we will not manually calculate derivatives, instead we\n",
    "#make use of the jax package which automatically derives the gradient for us\n",
    "#via autodifferentiation\n",
    "\n",
    "#therefore we need to import the jax-specific numpy package and the gradient function\n",
    "import jax.numpy as jnp\n",
    "from jax import grad\n",
    "\n",
    "#we define our own sigmoid function\n",
    "def sigmoid(z):\n",
    "    return 1 / (1 + jnp.exp(-z))\n",
    "\n",
    "#and the function which generates prediction with the estimated model parameters from the\n",
    "#code block above\n",
    "def prediction(x):\n",
    "    z = x.dot(w) + b\n",
    "    return sigmoid(z)\n",
    "\n",
    "#the gradient for the prediction function with respect is automatically derived with\n",
    "#this statement; Note: this is the collection of partial derivatives of \\pi_i with respect to x_{ij}\n",
    "grad_prediction = grad(prediction)\n",
    "\n",
    "#we just convert the format of feature variables to make gradient calculation work\n",
    "X = jnp.array(X)\n",
    "\n",
    "#use the estimated model parameters\n",
    "w = jnp.array(log_reg.coef_[0])\n",
    "b = log_reg.intercept_[0]\n",
    "\n",
    "#an example for partial derivatives with respect to x_{11}, x_{12} and x_{13} \n",
    "print('An example for partial derivatives of the first observaion:')\n",
    "print(grad_prediction(X[0]))\n",
    "\n",
    "#derive the partial derivatives for each observation\n",
    "partial_derivatives = np.array([grad_prediction(x) for x in X])\n",
    "\n",
    "#calculate the average importance for feature j over all observations i\n",
    "average_partiale_derivatives = np.mean(partial_derivatives, axis = 0)\n",
    "\n",
    "#determine the normalizing constant which ensures that absolute feature importances sum up to 1\n",
    "C = np.sum(np.abs(average_partiale_derivatives))\n",
    "\n",
    "#calculate feature importances\n",
    "feature_importance = average_partiale_derivatives / C\n",
    "\n",
    "for i, fi in enumerate(feature_importance):\n",
    "    print(f'The relative importance of feature {i + 1} in % is: {fi * 100:2.2f}')"
   ]
  },
  {
   "cell_type": "markdown",
   "metadata": {},
   "source": [
    "## Multi-Classification Regression\n",
    "\n",
    "If the task is to analyze a categorical target variable with more than two outcomes, we have multiple options. Traditional regression methods like multinomial or ordinary regression or more flexible approaches like neural networks. We will not discuss these methods in detail at this point, however, simply try to apply the idea which has been used to adjust the linear regression algorithm to a binary target variable. As before if $Y_i$ has multiple categories we can not make predictions by Equation <a href=\"#mjx-eqn-linear_regression\">1</a> which results in arbitrary values in $\\mathbb{R}$. For the binary classification, the regression line was transformed to return probabilities for the categories. As we had only two categories, it was enough to define the probability for $P(Y_i = 1)$ because this also defines the probability $P(Y_i = 0) = 1 - P(Y_i = 1)$. If $Y_i$ has more than two categories, this idea needs to be extended, i.e., with $K$ categories at least $K-1$ probabilities need to be determined or we simply model a probability for each category. Given $n$ feature variables we could set up an equation system in which we use one equation for each category $k = 1, ..., K$:\n",
    "\n",
    "$$\n",
    "\\begin{align}\n",
    "Z_1 & = w_{11} X_{i1} + w_{12} X_{i2} + ... + w_{1n} X_{in} + b_1 \\\\\n",
    "Z_2 & = w_{21} X_{i1} + w_{22} X_{i2} + ... + w_{2n} X_{in} + b_2 \\\\\n",
    "\\vdots & = \\vdots \\\\\n",
    "Z_K & = w_{K1} X_{i3} + w_{K2} X_{i3} + ... + w_{Kn} X_{in} + b_3 \\\\\n",
    "\\end{align}\n",
    "$$\n",
    "\n",
    "For convenience, we use matrix notation\n",
    "\n",
    "$$\n",
    "\\boldsymbol{Z}_i = \\boldsymbol{X}_i^T W + \\boldsymbol{b}\n",
    "$$\n",
    "\n",
    "with $\\boldsymbol{Z}_i = (Z_{1i}, ..., Z_{Ki}) \\in \\mathbb{R}^K$, $\\boldsymbol{X}_i = (X_{i1}, ..., X_{in}) \\in \\mathbb{R}^n$, $W \\in \\mathbb{R}^{n \\times K}$ and $\\boldsymbol{b} \\in \\mathbb{R}^K$. \n",
    "\n",
    "Note that for each category, feature values are the same, but the weights and biases differ. For the equations above $Z_k$ can have arbitrary values and we want probabilities for $P(Y_i = k) = \\pi_{ki}, k = 1, ..., K$. As before we can make use of a transformation function which fits our need, i.e., the **softmax** function. It is defined by:\n",
    "\n",
    "$$\n",
    "\\pi_{ki} = \\frac{e^{Z_k}}{\\sum_j e^{Z_j}}\n",
    "$$\n",
    "\n",
    "Maybe it does not look as intuitive as it is. For each category, we want a probability which by definition is in $[0, 1]$. In the equation system above each $Z_k$ is in $\\mathbb{R}$. By making use of the $e$-function each $e^{Z_k}$ is in $(0, \\infty)$, which means we fulfill the first requirement for a probability, $\\pi_{ki} \\geq 0$. Now, to make sure that the sum of probabilities for disjoint events sums up to one, we need a normalization for each $e^{Z_k}$. This is solved by summing over all $e^{Z_k}$ values which we denote by $\\sum_j e^{z_j}$. Assume, we have three categories and three values $z_1 = -1.0, z_2 = 0.7, z_3 = 0.2$. Using the $e$-function, this leads to $e^{z_1} = 0.3679, e^{z_2} = 2.0138, e^{z_3} = 1.2214$, all values are now greater than $0$. To determine the normalization, we add up: $e^{z_1} + e^{z_2} + e^{z_3} = 0.3679 + 2.0138 + 1.2214 = 3.6031$. Using this in the denominator, it results:\n",
    "\n",
    "$$\n",
    "\\begin{align}\n",
    "\\pi_{1i} = \\frac{0.3679}{3.6031} = 0.1021 \\\\\n",
    "\\pi_{2i} = \\frac{2.0138}{3.6031} = 0.5589 \\\\\n",
    "\\pi_{3i} = \\frac{1.2214}{3.6031} = 0.3390 \\\\\n",
    "\\end{align}\n",
    "$$\n",
    "\n",
    "As you can see, it holds that: $\\sum_k \\pi_{ki} = 1$. \n",
    "\n",
    "Now you know how the probability  for each observation belonging to category $k$ can be determined for a given observation $\\boldsymbol{x}_i$, once model parameters are estimated. \n",
    "\n",
    "```{caution}\n",
    "Be aware that estimation and feature importance for this type of multi-classification model is already rather sophisticated and beyond expectations regarding your current knowledge of these methods. However, for completeness, we illustrate them below and you are welcome to get an idea how it works. Just do not become discouraged if you do not understand it holistically.\n",
    "```"
   ]
  },
  {
   "cell_type": "markdown",
   "metadata": {},
   "source": [
    "### Estimation\n",
    "\n",
    "In analogy to the logistic regression, we can estimate parameters by maximizing the likelihood of a categorical distribution. The likelihood of an observation $Y_i = y_i = k$ equals the probability for category $k$, i.e, $\\pi_{ki}$. Thus, for a data sample, the joint likelihood is given by:\n",
    "\n",
    "$$\n",
    "\\mathcal{L}(W, b) = \\prod_{i = 1}^m \\prod_{k = 1}^K  \\pi_{ki}^{[y_i = k]}\n",
    "$$\n",
    "\n",
    "Basically, this is the product of categorical probabilities of categories which are observed. To make notation easier, let us define $Y_{ki}$ which is equal to $1$ if $Y_i = k$ and $0$ otherwise. Thus, the likelihood is:\n",
    "\n",
    "$$\n",
    "\\mathcal{L}(W, b) = \\prod_{i = 1}^m \\pi_{ki}^{y_{ki}}\n",
    "$$\n",
    "\n",
    "and the log-likelihood is given by:\n",
    "\n",
    "$$\n",
    "\\ln \\left( \\mathcal{L}(W, b) \\right) = \\sum_{i = 1}^m y_{ki} \\ln \\left( \\pi_{ki} \\right)\n",
    "$$\n",
    "\n",
    "Typically, optimization problems are presented as minimization problems. Instead of maximizing the log-likelihood, one minimizes:\n",
    "\n",
    "$$\n",
    "- \\ln \\left( \\mathcal{L}(W, b) \\right) = - \\sum_{i = 1}^m y_{ki} \\ln \\left( \\pi_{ki} \\right)\n",
    "$$\n",
    "\n",
    "which is called the **categorical crossentropy** function. As before, parameters can be estimated by gradient descent, for which several Python packages can be used.\n",
    "\n",
    "### Feature Importance\n",
    "\n",
    "The idea to derive feature importance by determining marginal sensitivities of predictions with respect to changes in features can be also used for the multi-classification model. However, we need to determine marginal sensitivities for each probability prediction. In concrete, our model consists of a system with $K$ functions which are used to predict probabilities for each category and, hereby, make use of $n$ features as input. In mathematical notation this is a mapping $\\mathbb{R}^n \\to [0,1]^K$ with $\\boldsymbol{X}_i \\to \\boldsymbol{f} \\left(\\boldsymbol{X}_i^T W + \\boldsymbol{b}\\right) $. $\\boldsymbol{f}$ represents the softmax function which is applied to each category, i.e., $\\pi_{1i} = f_1(\\boldsymbol{X}_i^T \\boldsymbol{w}_{\\cdot 1} + b_1), ..., \\pi_{Ki} = f_K(\\boldsymbol{X}_i^T \\boldsymbol{w}_{\\cdot K} + b_K)$. Building derivatives of each function $f_1, ..., f_k$ with respect to each feature $X_{i1}, ..., X_{in}$ is stored in the **Jabobian** matrix.\n",
    "\n",
    "$$\n",
    "J_f(\\boldsymbol{X}_i) = \n",
    "\\left(\n",
    "\\begin{align}\n",
    "\\frac{\\partial f_1(\\boldsymbol{X}_i)}{\\partial X_{i1}} & & ... & & \\frac{\\partial f_1(\\boldsymbol{X}_i)}{\\partial X_{in}} \\\\\n",
    "\\vdots & & \\vdots & & \\vdots \\\\\n",
    "\\frac{\\partial f_K(\\boldsymbol{X}_i)}{\\partial X_{i1}} & & ... & & \\frac{\\partial f_K(\\boldsymbol{X}_i)}{\\partial X_{in}} \\\\\n",
    "\\end{align}\n",
    "\\right)\n",
    "$$\n",
    "\n",
    "This can be done with another Python package. In this context, it is important to understand that we derive the Jacobian for every observation $\\boldsymbol{x}_i$ and, as before, average over ever entry $k,n$ to estimate global importance of feature $j$ with respect to probability of category $k$.\n",
    "\n",
    "$$\n",
    "FI_{x_{kj}} = \\frac{1}{C_k} \\frac{1}{m} \\sum_{i = 1}^m \\frac{\\partial \\hat{\\pi}_{ki}}{\\partial x_{ij}}\n",
    "$$\n",
    "\n",
    "where $C_k$ ensures $\\sum_{j = 1}^n |FI_{x_{kj}}| = 1$, such that importances sum up to one for each category $k$."
   ]
  },
  {
   "cell_type": "code",
   "execution_count": 12,
   "metadata": {},
   "outputs": [],
   "source": [
    "import numpy as np\n",
    "\n",
    "def softmax(z):\n",
    "    return [np.exp(zk) / np.sum(np.exp(z)) for zk in z]\n",
    "\n",
    "#simulate a random data sample\n",
    "\n",
    "#sample size of 1,000 data points\n",
    "m = 1000\n",
    "\n",
    "#parameter values\n",
    "np.random.seed(42)\n",
    "W = np.random.normal(size = 3 * 3).reshape(3, 3)\n",
    "b = np.random.normal(size = 3)\n",
    "\n",
    "#randomly generate feature values for three feature variables \n",
    "X = np.random.normal(size = 3 * m).reshape(m, 3)\n",
    "\n",
    "#now we generate values for the probabilities of P(Y_i = 1), P(Y_i = 2), P(Y_i = 3) \n",
    "Z = X.dot(W) + b\n",
    "pi = [softmax(z_i) for z_i in Z]\n",
    "\n",
    "#draw random observations for Y_i, given probabilities pi_i\n",
    "Y = [np.random.choice([1,2,3], size = 1, replace = False, p = p_i)[0] for p_i in pi]"
   ]
  },
  {
   "cell_type": "code",
   "execution_count": 13,
   "metadata": {},
   "outputs": [
    {
     "name": "stdout",
     "output_type": "stream",
     "text": [
      "The current loss is: 701.34\n"
     ]
    },
    {
     "name": "stdout",
     "output_type": "stream",
     "text": [
      "The current loss is: 683.80\n"
     ]
    },
    {
     "name": "stdout",
     "output_type": "stream",
     "text": [
      "The current loss is: 673.41\n"
     ]
    },
    {
     "name": "stdout",
     "output_type": "stream",
     "text": [
      "The current loss is: 667.12\n"
     ]
    },
    {
     "name": "stdout",
     "output_type": "stream",
     "text": [
      "The current loss is: 663.23\n"
     ]
    }
   ],
   "source": [
    "import jax.numpy as jnp\n",
    "from jax.nn import softmax\n",
    "from jax import grad\n",
    "\n",
    "#super slow and very quick and dirty implementation\n",
    "\n",
    "#function for making probability predictions\n",
    "def predict(weights, bias, X):\n",
    "    return softmax(jnp.dot(X, weights) + bias)\n",
    "\n",
    "#function\n",
    "def cat_crossentropy(weights, bias, X):\n",
    "    pi_est = predict(weights, bias, X)\n",
    "    return -jnp.sum(jnp.array([jnp.log(pi_est[i][y-1]) for i, y in enumerate(Y)]))\n",
    "\n",
    "#Gradient with respect to weights and bias\n",
    "gradient = grad(cat_crossentropy, argnums = (0, 1))\n",
    "\n",
    "#initialize random weights and bias\n",
    "np.random.seed(42)\n",
    "W_est = jnp.array(np.random.normal(size = 3*3).reshape(3, 3))\n",
    "b_est = jnp.array([0.0, 0.0, 0.0])\n",
    "\n",
    "#learning rate for gradient descent\n",
    "lr = 0.001\n",
    "#starting value of the crossentropy\n",
    "crossentropy = cat_crossentropy(W_est, b_est, X)\n",
    "\n",
    "#in a loop, do ...\n",
    "for _ in range(10):\n",
    "    #derive the current value of the gradient\n",
    "    W_grad, b_grad = gradient(W_est, b_est, X)\n",
    "    \n",
    "    #update parameters by gradient descent step\n",
    "    W_est -= lr * W_grad\n",
    "    b_est -= lr * b_grad\n",
    "\n",
    "    #current cross_entropy\n",
    "    crossentropy_tmp = cat_crossentropy(W_est, b_est, X)\n",
    "    \n",
    "    #if crossentropy increases, we overstepped the local minimum, then stop\n",
    "    if crossentropy_tmp > crossentropy:\n",
    "        break\n",
    "    crossentropy = crossentropy_tmp\n",
    "    print(f'The current loss is: {crossentropy:2.2f}')\n",
    "    \n",
    "print('This is the original weights matrix:')\n",
    "print(W)\n",
    "print('-'*60)\n",
    "print('This is the estimated weights matrix:')\n",
    "print(W_est)\n",
    "print('-'*60)\n",
    "print('These are original bias values:')\n",
    "print(b)\n",
    "print('-'*60)\n",
    "print('These are estimated bias values:')\n",
    "print(b_est)\n",
    "print(' ')\n",
    "print('...not too bad!')"
   ]
  },
  {
   "cell_type": "code",
   "execution_count": null,
   "metadata": {},
   "outputs": [],
   "source": [
    "import jax.numpy as jnp\n",
    "from jax.nn import softmax\n",
    "from jax import jacfwd\n",
    "import numpy as np\n",
    "\n",
    "#now we switch sides as we are interested in partial derivatives\n",
    "#of each probability prediction with respect to each feature\n",
    "\n",
    "#we define a prediction just to clearly separate it from the previous function\n",
    "def prediction(x):\n",
    "    return softmax(x.dot(W_est) + b_est)\n",
    "\n",
    "#function to derive the jacobian\n",
    "prediction_jacobian = jacfwd(prediction)\n",
    "\n",
    "#placeholders for partial derivatives with respect to each feature for each probabilty prediction\n",
    "pi_one_derivatives = []\n",
    "pi_two_derivatives = []\n",
    "pi_three_derivatives = []\n",
    "\n",
    "#for each data point get the jacobian and save partial derivatives\n",
    "#for each prediction in their placeholders\n",
    "for x in X:\n",
    "    jacobian_tmp = prediction_jacobian(x)\n",
    "    pi_one_derivatives.append(jacobian_tmp[0])\n",
    "    pi_two_derivatives.append(jacobian_tmp[1])\n",
    "    pi_three_derivatives.append(jacobian_tmp[2])\n",
    "\n",
    "#determine average feature importance for probability predictions P(Y_i = 1)\n",
    "feature_importance_one = np.mean(np.array(pi_one_derivatives), axis = 0)\n",
    "feature_importance_one = [f / np.sum(np.abs(feature_importance_one)) for f in feature_importance_one]\n",
    "\n",
    "#determine average feature importance for probability predictions P(Y_i = 2)\n",
    "feature_importance_two = np.mean(np.array(pi_two_derivatives), axis = 0)\n",
    "feature_importance_two = [f / np.sum(np.abs(feature_importance_two)) for f in feature_importance_two]\n",
    "\n",
    "#determine average feature importance for probability predictions P(Y_i = 3)\n",
    "feature_importance_three = np.mean(np.array(pi_three_derivatives), axis = 0)\n",
    "feature_importance_three = [f / np.sum(np.abs(feature_importance_three)) for f in feature_importance_three]\n",
    "\n",
    "print('Feature importance for the probability of P(Y_i = 1)')\n",
    "print('-'*60)\n",
    "\n",
    "for i, fi in enumerate(feature_importance_one):\n",
    "    print(f'The relative importance of feature {i + 1} in % is: {fi * 100:2.2f}')\n",
    "\n",
    "print('-'*60)\n",
    "print('')\n",
    "\n",
    "print('Feature importance for the probability of P(Y_i = 2)')\n",
    "print('-'*60)\n",
    "\n",
    "for i, fi in enumerate(feature_importance_two):\n",
    "    print(f'The relative importance of feature {i + 1} in % is: {fi * 100:2.2f}')\n",
    "\n",
    "print('-'*60)\n",
    "print('')\n",
    "\n",
    "print('Feature importance for the probability of P(Y_i = 3)')\n",
    "print('-'*60)\n",
    "\n",
    "for i, fi in enumerate(feature_importance_three):\n",
    "    print(f'The relative importance of feature {i + 1} in % is: {fi * 100:2.2f}')\n",
    "\n",
    "print('-'*60)\n",
    "print('')\n",
    "\n",
    "print('...results make sense when looking at parameter weights!\\n')\n",
    "print(W_est)\n",
    "print('')\n",
    "print('...however impact sizes for categories Y_i = 2 and Y_i = 3 seem to be a little mixed up!')"
   ]
  },
  {
   "cell_type": "markdown",
   "metadata": {},
   "source": [
    "## Summary of Baseline Algorithms\n",
    "\n",
    "What can we learn from these algorithms to generate a general understanding of supervised learning models? You may already have noticed a repeating pattern when reading each subsection. Every algorithm has an affine function, $\\boldsymbol{w}^T \\boldsymbol{X}_{i} + b$, as a building block. For every algorithm, the affine function gets transformed with another function $g$. The purpose of this transformation is to bring the predicted variable on the scale which is needed for the learning problem, i.e., the scale of the target variable. Once the algorithm is specified, model parameters are estimated by minimizing a loss function. The loss function is chosen according to the learning problem. The table below summarizes this structure of the models:\n",
    "\n",
    "<br>\n",
    "\n",
    "<table style=\"width:80%;\">\n",
    "    <colgroup>\n",
    "       <col span=\"1\" style=\"width: 10%;\" >\n",
    "       <col span=\"1\" style=\"width: 25%;\">\n",
    "       <col span=\"1\" style=\"width: 25%;\">\n",
    "       <col span=\"1\" style=\"width: 40%;\">\n",
    "    </colgroup>\n",
    "\n",
    "<tbody>\n",
    "  <tr>\n",
    "      <th> Problem </th>  <th> Algorithm </th> <th> Transformation </th> <th> Loss function </th>\n",
    "  </tr>  \n",
    "  <tr>\n",
    "      <td> Regression </td>\n",
    "      <td> $f_{\\boldsymbol{w}, b}(\\boldsymbol{X}_i) = \\boldsymbol{w}^T \\boldsymbol{X}_{i} + b$ </td>\n",
    "      <td> $g: \\mathbb{R} \\to \\mathbb{R}$, $g(z) = z$ </td>\n",
    "      <td> $L(\\boldsymbol{w}^T, b)= \\sum_{i = 1}^m \\left( y_i - f_{\\boldsymbol{w}, b}(\\boldsymbol{x}_i) \\right)^2$ </td>\n",
    "  </tr>  \n",
    "  <tr>\n",
    "      <td> Classification </td>\n",
    "      <td> $\\pi_i = f_{\\boldsymbol{w}, b}(\\boldsymbol{X}_i) = \\frac{1}{1 + e^{- \\left( \\boldsymbol{w}^T \\boldsymbol{X}_i + b \\right)}}$ </td>\n",
    "      <td> $f: \\mathbb{R} \\to [0,1]$, $g(z) = \\frac{1}{1 + e^{-z}}$ </td>\n",
    "      <td> $L(\\boldsymbol{w}^T, b) = - \\sum_{i = 1}^{m} y_i \\ln(\\pi_i) + (1 - y_i) \\ln(1 - \\pi_i)$ </td>\n",
    "  </tr>  \n",
    "  <tr>\n",
    "      <td> Multi-classification </td>\n",
    "      <td> $\\pi_{ki} = f_{\\boldsymbol{w_k}, b_k}(\\boldsymbol{X}_i) = \\frac{e^{\\boldsymbol{w_k}^T \\boldsymbol{X}_i + b_k}}{\\sum_j e^{\\boldsymbol{w_j}^T \\boldsymbol{X}_i + b_j}}$ </td>\n",
    "      <td> $f: \\mathbb{R} \\to [0,1]^K$, $g_k(z) = \\frac{e^{z_k}}{\\sum_j e^{z_j}}$ </td>\n",
    "      <td> $L(\\boldsymbol{W}, \\boldsymbol{b}) = - \\sum_{i = 1}^m y_{ki} \\ln \\left( \\pi_{ki} \\right)$ </td>\n",
    "  </tr>  \n",
    "    </tbody>\n",
    "</table>"
   ]
  }
 ],
 "metadata": {
  "celltoolbar": "Tags",
  "kernelspec": {
   "display_name": "Python 3",
   "language": "python",
   "name": "python3"
  },
  "language_info": {
   "codemirror_mode": {
    "name": "ipython",
    "version": 3
   },
   "file_extension": ".py",
   "mimetype": "text/x-python",
   "name": "python",
   "nbconvert_exporter": "python",
   "pygments_lexer": "ipython3",
   "version": "3.8.3"
  }
 },
 "nbformat": 4,
 "nbformat_minor": 4
}