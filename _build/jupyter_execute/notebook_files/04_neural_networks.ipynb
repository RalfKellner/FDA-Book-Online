{
 "cells": [
  {
   "cell_type": "markdown",
   "metadata": {},
   "source": [
    "# Neural Networks\n",
    "\n",
    "Neural networks can be used for supervised learning problems and we will start with this type of application in this section. Nevertheless, they are used for more, which is why I separate them from the supervised learning section. As you will see in the next chapter, they can be used for unsupervised learning tasks like dimensionality reduction (with the use of Autoencoders). Furthermore, they are used for artificial creation and imitation of real-life observations and processes like images or time series (with the use of Generative Adversarial Networks). Moreover, they are used in combination with reinforcement learning to train artificial agents to deal with episodic tasks like playing games or trading stocks (Deep Reinforcement Learning).\n",
    "\n",
    "Why are neural networks so powerful and versatile? The short answer - because they are a powerful tool to approximate complex functional relationships. No matter the dimensionality of input and output, not matter of direct and indirect linear and non-linear dependencies, under certain conditions, neural networks are able to capture any functional relationship.\n",
    "\n",
    "Different architectures for neural networks exist. We will focus on feed forward networks. First, we want to understand how they work, second, we will talk about the estimation of networks, and third, we also discuss interpretability and feature importance. Neural networks are often accused to be \"black boxes\" with a lack of interpretability. In my opinion, this is not true, and with a certain understanding, predictions of neural networks are transparent and important features can be identified.\n",
    "\n",
    "## Architecture of Neural Networks\n",
    "\n",
    "With the understanding of the baseline algorithms in the previous chapter, you already know what you need to know for understanding neural networks. In simplified terms, neural networks are a combination of linear predictors with non-linear transformation functions. Remember that for each baseline model, the building block is the linear predictor:\n",
    "\n",
    "$$\n",
    "Z_i = \\boldsymbol{w}^T \\boldsymbol{X}_i + b\n",
    "$$\n",
    "\n",
    "For the classification models, we simply combined the linear predictor with non-linear functions mapping the outcome to the number range of our needs, i.e., the sigmoid and the softmax function. Neural networks follow this principle but make use of it multiple times to generate a target prediction.\n",
    "\n",
    "For simplicity, let us first ignore the use of any transformation function. Assume, we have one specific observation $(x_{i1}, x_{i2}, ..., x_{in}, y_i )$. For the moment, we skip the $i$ in subscript, but remember that this $(x_1, x_2, ..., x_n, y)$ refers to one observation in the data set. \n",
    "\n",
    "Now, for given model parameters, assume, we not just use one linear predictor, but $p$ linear predictors for this input which results in $p$ linear predictions. For instance, if $p = 2$, we get:\n",
    "\n",
    "$$\n",
    "\\begin{align}\n",
    "z_1 & = w_{11}^{(l)} x_{1} + w_{12}^{(l)} x_{2} + ... + w_{1n}^{(l)} x_{n} + b_1^{(l)} \\\\\n",
    "z_2 & = w_{21}^{(l)} x_{1} + w_{22}^{(l)} x_{2} + ... + w_{2n}^{(l)} x_{n} + b_2^{(l)} \\\\\n",
    "\\end{align}\n",
    "$$\n",
    "\n",
    "or in matrix notation:\n",
    "\n",
    "$$\n",
    "\\boldsymbol{z} = \\boldsymbol{x}^T \\boldsymbol{W}^{(l)} + \\boldsymbol{b}^{(l)}\n",
    "$$\n",
    "\n",
    "Now, we use $z_1$ and $z_2$ as input for another linear predictor which returns our estimate for the target:\n",
    "\n",
    "$$\n",
    "\\hat{y} = w_{11}^{(L)} z_{1} + w_{12}^{(L)} z_{2} + b^{(L)}\n",
    "$$\n",
    "\n",
    "You just witnessed a simplified version of a forward neural network which is shown in the figure below."
   ]
  },
  {
   "cell_type": "code",
   "execution_count": 1,
   "metadata": {
    "tags": [
     "hide-input"
    ]
   },
   "outputs": [
    {
     "data": {
      "image/png": "[encoded data removed]",
      "text/plain": [
       "<Figure size 432x288 with 1 Axes>"
      ]
     },
     "metadata": {
      "filenames": {
       "image/png": "/Users/ralfkellner/Library/Mobile Documents/com~apple~CloudDocs/Python/Module/FinDataAnalytics/FinDataAnalytics-JB/_build/jupyter_execute/notebook_files/04_neural_networks_1_0.png"
      },
      "needs_background": "light"
     },
     "output_type": "display_data"
    }
   ],
   "source": [
    "from nnv import NNV\n",
    "import matplotlib.pylab as plt\n",
    "layersList = [\n",
    "    {\"title\":\"Input\\nlayer\", \"units\": 5, \"color\": \"black\"},\n",
    "    {\"title\":\"Hiden\\nlayer\", \"units\": 2},\n",
    "    {\"title\":\"Output\\nlayer\", \"units\": 1,\"color\": \"black\"},\n",
    "]\n",
    "\n",
    "NNV(layersList).render()\n",
    "plt.show()"
   ]
  },
  {
   "cell_type": "markdown",
   "metadata": {},
   "source": [
    "Why simplified? Because, we omitted one essential aspect. So far, each predictor is only able to capture linear relationships due to the affine functional form. To capture non-linear relationships, linear predictors are composed with non-linear functions $g$ which are called activation functions in this context. We will show a few different activation functions after we discussed the architecture of a neural network. Assume, we add an activation function in the first step of the example above. This would lead to:\n",
    "\n",
    "$$\n",
    "\\begin{align}\n",
    "h_1^{(l)} & = g(z_1) = g \\left(w_{11}^{(l)} x_{1} + w_{12}^{(l)} x_{2} + ... + w_{1n}^{(l)} x_{n} + b_1^{(l)} \\right) \\\\\n",
    "h_2^{(l)} & = g(z_2) = g \\left( w_{21}^{(l)} x_{1} + w_{22}^{(l)} x_{2} + ... + w_{2n}^{(l)} x_{n} + b_2^{(l)} \\right) \\\\\n",
    "\\end{align}\n",
    "$$\n",
    "\n",
    "or in matrix notation to:\n",
    "\n",
    "$$\n",
    "\\boldsymbol{h} = g( \\boldsymbol{z} ) = g \\left(\\boldsymbol{x}^T \\boldsymbol{W}^{(l)} + \\boldsymbol{b}^{(l)} \\right)\n",
    "$$\n",
    "\n",
    "and finally to the target prediction:\n",
    "\n",
    "$$\n",
    "\\hat{y} = w_{11}^{(L)} h_{1} + w_{12}^{(L)} h_{2} + b^{(L)}\n",
    "$$\n",
    "\n",
    "Okay, now let us generalize this together with a proper notation. Each neural network consists of $L$ **layers**. The first layer is called **input layer**, the last layer is called **output layer**. Layers between the input and the output layer are called hidden layers. Each layers consists of $p^{(l)}$ **neurons**, while the number of neurons is given by the number of features and the number of output neurons is determined by the output size of the target. In between the number of layers and neurons are hyperparameters and must be set by the user. \n",
    "\n",
    "For the example above, let us denote the input features as input neurons $(x_1, x_2, ..., x_n) = (h_1^{(1)}, h_2^{(2)}, ... , h_{p}^{(1)})$. With this notation, the neurons of the second layer are defined by:\n",
    "\n",
    "$$\n",
    "\\begin{align}\n",
    "h_1^{(2)} & = g(z_1) = g^{(1)} \\left(w_{11}^{(1)} h_{1}^{(1)} + w_{12}^{(1)} h_{2}^{(1)} + ... + w_{1n}^{(1)} h_{n}^{(1)} + b_1^{(1)} \\right) \\\\\n",
    "h_2^{(2)} & = g(z_2) = g^{(1)} \\left(w_{21}^{(1)} h_{1}^{(1)} + w_{22}^{(1)} h_{2}^{(1)} + ... + w_{2n}^{(1)} h_{n}^{(1)} + b_2^{(1)} \\right) \\\\\n",
    "\\end{align}\n",
    "$$\n",
    "\n",
    "and we get the target prediction by:\n",
    "\n",
    "$$\n",
    "\\hat{y} = h_1^{(3)} = w_{11}^{(2)} h_{1}^{(2)} + w_{12}^{(2)} h_{2}^{(2)} + b^{(2)}\n",
    "$$\n",
    "\n",
    "Accordingly, with a general notation, neurons for layer $l$ are generated by:\n",
    "\n",
    "$$\n",
    "\\boldsymbol{h}^{(l)} = g^{(l - 1)} \\left(\\boldsymbol{h}^{(l - 1), T} \\boldsymbol{W}^{(l - 1)} + \\boldsymbol{b}^{(l - 1)}\\right)\n",
    "$$\n",
    "\n",
    "Again, the idea is to make several predictions starting from the set of input features, these feature are then transformed to new features by means of transformed linear predictors, called neurons. This can be repeated multiple times until we say it is enough and end with a final prediction. Common choices regarding the number of hidden layers are one or two for common forward neural networks. This is due to phenomena called **vanishing** and **exploding** gradient problem. We will come back to this at a later stage. \n",
    "\n",
    "### Activation functions\n",
    "\n",
    "A certain range of typical non-linear transformation functions for the choice of $g$ exist. You already know three choices, the identity, the sigmoid and the softmax function. Other popular examples are the **rectified linear unit** (ReLU) function:\n",
    "\n",
    "$$\n",
    "g(z) = \\max \\lbrace 0, z \\rbrace\n",
    "$$\n",
    "\n",
    "the **exponential linear unit** (ELU) function, with $\\alpha$ typically being a value between $0.10$ and $0.30$:\n",
    "\n",
    "$$\n",
    "g(z) = \n",
    "\\begin{cases}\n",
    "z & \\text{if } z > 0\\\\\n",
    "\\alpha (e^z - 1) & \\text{if } z < 0\n",
    "\\end{cases}\n",
    "$$\n",
    "\n",
    "the **scaled exponential unit** (SELU) function, with fixed parameters $\\alpha, \\lambda$:\n",
    "\n",
    "$$\n",
    "g(z) = \\lambda\n",
    "\\begin{cases}\n",
    "z & \\text{if } z > 0\\\\\n",
    "\\alpha e^z - \\alpha & \\text{if } z \\leq 0\n",
    "\\end{cases}\n",
    "$$\n",
    "\n",
    "or the **hyperbolic tangent function** (tanh):\n",
    "\n",
    "$$\n",
    "g(z) = \\frac{e^{z} - e^{-z} }{e^{z} + e^{-z}}\n",
    "$$\n",
    "\n",
    "The figure below illustrated these functions."
   ]
  },
  {
   "cell_type": "code",
   "execution_count": 2,
   "metadata": {
    "tags": [
     "hide-input"
    ]
   },
   "outputs": [
    {
     "data": {
      "image/png": "[encoded data removed]",
      "text/plain": [
       "<Figure size 720x576 with 4 Axes>"
      ]
     },
     "metadata": {
      "filenames": {
       "image/png": "/Users/ralfkellner/Library/Mobile Documents/com~apple~CloudDocs/Python/Module/FinDataAnalytics/FinDataAnalytics-JB/_build/jupyter_execute/notebook_files/04_neural_networks_3_0.png"
      },
      "needs_background": "light"
     },
     "output_type": "display_data"
    }
   ],
   "source": [
    "from tensorflow.keras import activations\n",
    "import numpy as np\n",
    "import matplotlib.pylab as plt\n",
    "\n",
    "z = np.linspace(-7, 7, 500)\n",
    "h_relu = activations.relu(z).numpy()\n",
    "h_elu = activations.elu(z).numpy()\n",
    "h_selu = activations.selu(z).numpy()\n",
    "h_tanh = activations.tanh(z).numpy()\n",
    "\n",
    "fig, axes = plt.subplots(2,2, sharex = True, sharey = True)\n",
    "fig.set_figheight(8)\n",
    "fig.set_figwidth(10)\n",
    "\n",
    "axes[0,0].plot(z, h_relu)\n",
    "axes[0,0].set_xlabel(r'$z$')\n",
    "axes[0,0].set_ylabel(r'$g(z)$')\n",
    "axes[0,0].set_title('ReLU')\n",
    "\n",
    "axes[0,1].plot(z, h_elu)\n",
    "axes[0,1].set_xlabel(r'$z$')\n",
    "axes[0,1].set_ylabel(r'$g(z)$')\n",
    "axes[0,1].set_title('ELU')\n",
    "\n",
    "axes[1,0].plot(z, h_selu)\n",
    "axes[1,0].set_xlabel(r'$z$')\n",
    "axes[1,0].set_ylabel(r'$g(z)$')\n",
    "axes[1,0].set_title('SELU')\n",
    "\n",
    "axes[1,1].plot(z, h_tanh)\n",
    "axes[1,1].set_xlabel(r'$z$')\n",
    "axes[1,1].set_ylabel(r'$g(z)$')\n",
    "axes[1,1].set_title('TanH')\n",
    "\n",
    "plt.show()"
   ]
  },
  {
   "cell_type": "markdown",
   "metadata": {},
   "source": [
    "In some cases, a certain activation function is mandatory for the purpose of the learning problem. However, for most of the time, choosing activation functions also belongs to the process of hyperparameter optimization. Up to today, more and more different activation functions are developed and suggested. \n",
    "\n",
    "### Baseline Models are Neural Networks\n",
    "\n",
    "It maybe an interesting insight at this stage to understand that baseline models from the previous chapter are nested within the neural network structure. Easily spoken, each of the baseline models is a different neural network without a hidden layer. The linear regression model consists of an input layer, the identify function and a one-dimensional output neuron. The logistic regression model consists of an input layer, the sigmoid function and a one-dimensional output neuron. The multi-classification model consists of an input layer, the softmax activation function and $k$-dimensional output neurons.\n",
    "\n",
    "\n",
    "## Estimation of Neural Networks\n",
    "\n",
    "Neural networks are estimated by stochastic gradient descent methods. The only thing which gets a little more complex, is the derivation of partial derivatives with respect to model parameters. However, this should not be too much of a concern, because different software packages exist which derive gradients by auto-differentiation. What is most important is the correct choice of a loss function which is minimized to derive optimal parameter estimates. Fortunately for us, we can use the same loss functions as presented when discussing the baseline models. This means for regression problems, we use the mean-squared-error, for binary classification, we use the binary-cross-entropy and for multi-classification problems, we use the categorical-cross-entropy function. In each case the loss function receives target values and predictions. Target values are derived by the neural network which is a sequential composition of different functions. Whenever, we are in need of derivatives for composed function, the **chain rule** is most important. \n",
    "\n",
    "For two functions $f, g$, $f: D \\to L$ and $g:L \\to V$, the composition $g \\circ f: D \\to V$ with $(g \\circ f)(x) = g\\left(f(x)\\right)$ can be differentiated by:\n",
    "\n",
    "$$\n",
    "\\frac{\\partial \\left(g\\left(f(x)\\right)\\right)}{\\partial x} = \\frac{\\partial \\left(g \\left(f(x)\\right)\\right)}{\\partial f(x)} \\frac{\\partial f(x)}{\\partial x}\n",
    "$$\n",
    "\n",
    "If we go through a neural network from the input to the output layer, we are conducting a **forward pass**. When differentiating to derive partial derivatives for all weights and biases, we need to differentiate the way back from the loss function to the output, to the hidden layer(s) and to the input. This is called **backpropagation**\n",
    "\n",
    "Let us revisit our simplified example from the beginning. Furthermore, let us assume, we have three input features $x_1, x_2, x_3$. In the hidden layer, we want to keep the two neurons, and for simplicity we only use the identity function to activate the neurons in the hidden and in the output layer. With our general notation, we have the input layer consisting of neurons $(x_1, x_2, x_3) = (h_1^{(1)}, h_2^{(1)}, h_3^{(1)})$. The hidden layer:\n",
    "\n",
    "$$\n",
    "\\begin{align}\n",
    "h_1^{(2)} & = w_{11}^{(1)} h_{1}^{(1)} + w_{12}^{(1)} h_{2}^{(1)} + ... + w_{1n}^{(1)} h_{n}^{(1)} + b_1^{(1)}  \\\\\n",
    "h_2^{(2)} & = w_{21}^{(1)} h_{1}^{(1)} + w_{22}^{(1)} h_{2}^{(1)} + ... + w_{2n}^{(1)} h_{n}^{(1)} + b_2^{(1)}  \\\\\n",
    "\\end{align}\n",
    "$$\n",
    "\n",
    "The output layer:\n",
    "\n",
    "$$\n",
    "\\hat{y} = h_1^{(3)} = w_{11}^{(2)} h_{1}^{(2)} + w_{12}^{(2)} h_{2}^{(2)} + b^{(2)}\n",
    "$$\n",
    "\n",
    "And assuming a regression problem, the loss function for this observation:\n",
    "\n",
    "$$\n",
    "L(y, \\hat{y}) = \\left(y - \\hat{y}\\right)^2\n",
    "$$\n",
    "\n",
    "In order to estimate weight and bias parameters by gradient descent, we need to partially derive the loss function with respect to every weight and bias. First let us take a look at weights and bias between the hidden and the output layer. The loss function does not directly depend on these values, but $\\hat{y}$ directly depends on these values. To partially differentiate with respect to the weights, we can use the chain rule:\n",
    "\n",
    "$$\n",
    "\\frac{\\partial L}{\\partial w_{11}^{(2)}} = \\frac{\\partial L}{\\partial \\hat{y}} \\frac{\\partial \\hat{y}}{\\partial w_{11}^{(2)}} = 2 \\left(y - \\hat{y}\\right)(-1)\\cdot h_{1}^{(2)}\n",
    "$$\n",
    "\n",
    "$$\n",
    "\\frac{\\partial L}{\\partial w_{12}^{(2)}} = \\frac{\\partial L}{\\partial \\hat{y}} \\frac{\\partial \\hat{y}}{\\partial w_{12}^{(2)}} = 2 \\left(y - \\hat{y}\\right)(-1)\\cdot h_{2}^{(2)}\n",
    "$$\n",
    "\n",
    "Accordingly, with respect to the bias, the partial derivative is given by:\n",
    "\n",
    "$$\n",
    "\\frac{\\partial L}{\\partial b^{(2)}} = \\frac{\\partial L}{\\partial \\hat{y}} \\frac{\\partial \\hat{y}}{\\partial b^{(2)}} = 2 \\left(y - \\hat{y}\\right)(-1)\\cdot 1\n",
    "$$\n",
    "\n",
    "You are probably already guessing, what happens, if we backpropagate to the weights and biases of the first layer. For instance, the partial derivative with respect to the weight $w_{11}^{(1)}$ is given by:\n",
    "\n",
    "$$\n",
    "\\frac{\\partial L}{\\partial w_{11}^{(1)}} = \\frac{\\partial L}{\\partial \\hat{y}} \\frac{\\partial \\hat{y}}{\\partial h_1^{(2)}} \\frac{\\partial h_1^{(2)}}{\\partial w_{11}^{(1)}} = 2 \\left(y - \\hat{y}\\right)(-1)\\cdot w_{11}^{(1)} \\cdot h_{1}^{(1)}\n",
    "$$\n",
    "\n",
    "We stop here, because you can see that it does not get more difficult to derive partial derivatives, only the way back gets longer. This holds true if we use other activation functions, but their use add another step in between for backpropagating from the loss function to the input features. As stated earlier, it is not important to manually derive partial derivatives, because this is done by efficient computer algorithms, however, it is very important to understand this concept in general and to combine this understanding with the gradient descent method. If you are at this point, it will be no problem to understand more advanced approaches of neural networks.\n",
    "\n",
    "### Practical Issues for Estimation\n",
    "\n",
    "Usually, features are normalized or standardized for the use with neural networks. This has numerical reasons because we apply various matrix multiplication for making target predictions. Especially in combination with some activation functions this can lead to high values, numerical instability and the inability to apply gradient descent properly. Furthermore, regarding the use of forward neural networks, it is recommended not to use too many hidden layers, otherwise, weights in the first layers may not get training by gradient descent due to the **vanishing gradient** problem. Often, activation functions like the sigmoid or the hyperbolic tangent function are used. Their gradients are typically small values between $(0, 1)$. This in combination with the chain rule generates partial derivatives which consists of multiple multiplications of small numbers. As a consequence, partial derivatives with respect to weights and biases in the first layers are so small, that almost no update occurs for the parameters. Thus, the model is not able to learn adequate parameter values. Another problem which works in the opposite direction is the **exploding gradient** problem. Sometimes, partial derivatives can be very steep leading to high numerical values. Especially, if this reoccurs during backpropagation, it may lead to exponentially growing gradients. This results in very high weight and bias updates which can lead to numerical problems and the incapability of the model to learn adequate parameters. Certain methods exists to fix these issues, but for the moment, just remember that these problem exists and search for assistance in the literature when you encounter them. Regarding forward neural network, it usually is not a problem when input features are adequately preprocessed and common and appropriate activation functions are used.\n",
    "\n",
    "## Software Implementation - Tensorflow and Keras\n",
    "\n",
    "Basically, all you need for estimating parameters of neural networks is a tool which automatically generates gradients and is a able to conduct gradient based methods. One of the most popular tools providing these functionalities is [tensorflow](https://www.tensorflow.org/) which is an ecosystem of tools, libraries and community resources for machine learning, especially deep learning with neural networks. Alternatives to tensorflow exist, but especially in recent research it has become the go-to-guy for deep and machine learning projects. Another benefit when using tensorflow is the simplified usage which is enabled by [keras](https://keras.io/). Keras is an API (Application Programming Interface) which sits on top of tensorflow and provides easy usage for tensorflow to implement and estimate common neural network architectures. Keras provides a sequential and a functional way to define neural networks. At this stage, we will stick to the sequential method which is most user-friendly for the start. If you want to define a neural network, you need to decide:\n",
    "\n",
    "* how many layers\n",
    "* how many neurons\n",
    "* which activation functions\n",
    "\n",
    "Furthermore, you need to provide information regarding:\n",
    "\n",
    "* the input dimension\n",
    "* the loss function which should/needs to be used\n",
    "* how many steps you want to conduct for gradient descent\n",
    "* which type of gradient descent method you want to learn\n",
    "\n",
    "Further hyperparameters and functionalities exist, but we want to keep it easy at this step. Also notice, so far, we have only talked about gradient descent in general. For neural networks it is common to use **stochastic gradient descent** which does not use all observations at a gradient descent step, but uses a randomly drawn subset of observations. Furthermore, it is often helpful to adjust the learning rate during estimation. Multiple mechanisms exist and can be chosen with keras. \n",
    "\n",
    "Nevertheless, let us keep it simple and define a neural network with keras and tensorflow. Take a look at this code:"
   ]
  },
  {
   "cell_type": "code",
   "execution_count": 3,
   "metadata": {},
   "outputs": [],
   "source": [
    "import tensorflow as tf\n",
    "\n",
    "model = tf.keras.Sequential([\n",
    "    tf.keras.layers.Dense(10, activation = 'selu', input_shape = [3]),\n",
    "    tf.keras.layers.Dense(1, activation = 'linear')\n",
    "])"
   ]
  },
  {
   "cell_type": "markdown",
   "metadata": {},
   "source": [
    "The code defines a forward neural network with one hidden layer including ten neurons, the SELU activation function. Furthermore, in the first layer, we need to tell the model the input dimension, which in our case is the number of input features. The output layer consists of one neuron, so one target value gets estimated, using the linear predictor, i.e., $\\hat{y} = \\boldsymbol{w}^{(2, T)} \\boldsymbol{h}^{(2)}$. The linear predictor needs to be  chosen if we want to use the model for a regression problem. \n",
    "\n",
    "```{note}\n",
    "It may take a while until you are familiar with each of the building blocks of a model and the options which can be chosen. However, this is very well documented on the keras homepage and sooner or later, you will need to spend some time for this. At the moment, just try to learn from the examples.\n",
    "```\n",
    "\n",
    "Next, we need to compile the model which means, we tell the model which loss function to minimizer and which gradient based method should be used."
   ]
  },
  {
   "cell_type": "code",
   "execution_count": 4,
   "metadata": {},
   "outputs": [],
   "source": [
    "model.compile(loss = 'mean_squared_error', optimizer = 'sgd')"
   ]
  },
  {
   "cell_type": "markdown",
   "metadata": {},
   "source": [
    "We use the $MSE$, given we are still facing a regression problem. The $MSE$ is minimized by stochastic gradient descent. Finally, let us take a look at a summery of our model."
   ]
  },
  {
   "cell_type": "code",
   "execution_count": 5,
   "metadata": {},
   "outputs": [
    {
     "name": "stdout",
     "output_type": "stream",
     "text": [
      "Model: \"sequential\"\n",
      "_________________________________________________________________\n",
      "Layer (type)                 Output Shape              Param #   \n",
      "=================================================================\n",
      "dense (Dense)                (None, 10)                40        \n",
      "_________________________________________________________________\n",
      "dense_1 (Dense)              (None, 1)                 11        \n",
      "=================================================================\n",
      "Total params: 51\n",
      "Trainable params: 51\n",
      "Non-trainable params: 0\n",
      "_________________________________________________________________\n"
     ]
    }
   ],
   "source": [
    "model.summary()"
   ]
  },
  {
   "cell_type": "markdown",
   "metadata": {},
   "source": [
    "Before, we see model estimation in action, let us take a look at the great flexibility of neural networks and how easy it is for us to define such models. If we want to examine another type of learning problem, we only need to adjust the output layer and the loss function accordingly. For instance, if we face a binary classification problem, the model from above changes to:"
   ]
  },
  {
   "cell_type": "code",
   "execution_count": 6,
   "metadata": {},
   "outputs": [
    {
     "name": "stdout",
     "output_type": "stream",
     "text": [
      "Model: \"sequential_1\"\n",
      "_________________________________________________________________\n",
      "Layer (type)                 Output Shape              Param #   \n",
      "=================================================================\n",
      "dense_2 (Dense)              (None, 10)                40        \n",
      "_________________________________________________________________\n",
      "dense_3 (Dense)              (None, 1)                 11        \n",
      "=================================================================\n",
      "Total params: 51\n",
      "Trainable params: 51\n",
      "Non-trainable params: 0\n",
      "_________________________________________________________________\n"
     ]
    }
   ],
   "source": [
    "import tensorflow as tf\n",
    "\n",
    "model = tf.keras.Sequential([\n",
    "    tf.keras.layers.Dense(10, activation = 'selu', input_shape = [3]),\n",
    "    tf.keras.layers.Dense(1, activation = 'sigmoid')\n",
    "])\n",
    "\n",
    "model.compile(loss = 'binary_crossentropy', optimizer = 'sgd')\n",
    "\n",
    "model.summary()"
   ]
  },
  {
   "cell_type": "markdown",
   "metadata": {},
   "source": [
    "As you can see, we just changed the activation function in the output layer, which results in predictions in the range $[0, 1]$. Furthermore, by setting the loss function to \"binary_crossentropy\", the model \"knows\" it should generate probability predictions which maximize the likelihood of the target variable following a Bernoulli distribution. To complete the model definition examples, assume we face a multi-classification problem with three classes, the model definition would look like:"
   ]
  },
  {
   "cell_type": "code",
   "execution_count": 7,
   "metadata": {},
   "outputs": [
    {
     "name": "stdout",
     "output_type": "stream",
     "text": [
      "Model: \"sequential_2\"\n",
      "_________________________________________________________________\n",
      "Layer (type)                 Output Shape              Param #   \n",
      "=================================================================\n",
      "dense_4 (Dense)              (None, 10)                40        \n",
      "_________________________________________________________________\n",
      "dense_5 (Dense)              (None, 3)                 33        \n",
      "=================================================================\n",
      "Total params: 73\n",
      "Trainable params: 73\n",
      "Non-trainable params: 0\n",
      "_________________________________________________________________\n"
     ]
    }
   ],
   "source": [
    "import tensorflow as tf\n",
    "\n",
    "model = tf.keras.Sequential([\n",
    "    tf.keras.layers.Dense(10, activation = 'selu', input_shape = [3]),\n",
    "    tf.keras.layers.Dense(3, activation = 'softmax')\n",
    "])\n",
    "\n",
    "model.compile(loss = 'categorical_crossentropy', optimizer = 'sgd')\n",
    "\n",
    "model.summary()"
   ]
  },
  {
   "cell_type": "markdown",
   "metadata": {},
   "source": [
    "The number of neurons in the output layer needs to be equal to the number of categories of the target variable. The softmax-function ensures that the sum over all category-probabilities is equal to one and each probability is equal to or greater than zero. To adjust the estimation objective accordingly, the loss function to be minimized is the \"categorical_crossentropy\" function. Each of the examples is a forward neural network. Of course, we can skip the hidden layer such that the models defined are similar to the baseline algorithms in the previous section. So let us revisit each of the baseline algorithms with a fictional simulated data set."
   ]
  },
  {
   "cell_type": "code",
   "execution_count": 8,
   "metadata": {},
   "outputs": [
    {
     "name": "stdout",
     "output_type": "stream",
     "text": [
      "Epoch 1/10\n"
     ]
    },
    {
     "name": "stdout",
     "output_type": "stream",
     "text": [
      "\r",
      " 1/44 [..............................] - ETA: 8s - loss: 2.5300"
     ]
    },
    {
     "name": "stdout",
     "output_type": "stream",
     "text": [
      "\b\b\b\b\b\b\b\b\b\b\b\b\b\b\b\b\b\b\b\b\b\b\b\b\b\b\b\b\b\b\b\b\b\b\b\b\b\b\b\b\b\b\b\b\b\b\b\b\b\b\b\b\b\b\b\b\b\b\b\b\b\b\b\r",
      "44/44 [==============================] - 1s 12ms/step - loss: 1.7505 - val_loss: 0.4400\n"
     ]
    },
    {
     "name": "stdout",
     "output_type": "stream",
     "text": [
      "Epoch 2/10\n",
      "\r",
      " 1/44 [..............................] - ETA: 0s - loss: 0.4986"
     ]
    },
    {
     "name": "stdout",
     "output_type": "stream",
     "text": [
      "\b\b\b\b\b\b\b\b\b\b\b\b\b\b\b\b\b\b\b\b\b\b\b\b\b\b\b\b\b\b\b\b\b\b\b\b\b\b\b\b\b\b\b\b\b\b\b\b\b\b\b\b\b\b\b\b\b\b\b\b\b\b\b\r",
      "44/44 [==============================] - 0s 1ms/step - loss: 0.3414 - val_loss: 0.1132\n"
     ]
    },
    {
     "name": "stdout",
     "output_type": "stream",
     "text": [
      "Epoch 3/10\n",
      "\r",
      " 1/44 [..............................] - ETA: 0s - loss: 0.0939"
     ]
    },
    {
     "name": "stdout",
     "output_type": "stream",
     "text": [
      "\b\b\b\b\b\b\b\b\b\b\b\b\b\b\b\b\b\b\b\b\b\b\b\b\b\b\b\b\b\b\b\b\b\b\b\b\b\b\b\b\b\b\b\b\b\b\b\b\b\b\b\b\b\b\b\b\b\b\b\b\b\b\b\r",
      "44/44 [==============================] - 0s 1ms/step - loss: 0.0969 - val_loss: 0.0566\n"
     ]
    },
    {
     "name": "stdout",
     "output_type": "stream",
     "text": [
      "Epoch 4/10\n",
      "\r",
      " 1/44 [..............................] - ETA: 0s - loss: 0.0497"
     ]
    },
    {
     "name": "stdout",
     "output_type": "stream",
     "text": [
      "\b\b\b\b\b\b\b\b\b\b\b\b\b\b\b\b\b\b\b\b\b\b\b\b\b\b\b\b\b\b\b\b\b\b\b\b\b\b\b\b\b\b\b\b\b\b\b\b\b\b\b\b\b\b\b\b\b\b\b\b\b\b\b\r",
      "44/44 [==============================] - 0s 1ms/step - loss: 0.0501 - val_loss: 0.0459\n"
     ]
    },
    {
     "name": "stdout",
     "output_type": "stream",
     "text": [
      "Epoch 5/10\n",
      "\r",
      " 1/44 [..............................] - ETA: 0s - loss: 0.0430"
     ]
    },
    {
     "name": "stdout",
     "output_type": "stream",
     "text": [
      "\b\b\b\b\b\b\b\b\b\b\b\b\b\b\b\b\b\b\b\b\b\b\b\b\b\b\b\b\b\b\b\b\b\b\b\b\b\b\b\b\b\b\b\b\b\b\b\b\b\b\b\b\b\b\b\b\b\b\b\b\b\b\b\r",
      "44/44 [==============================] - 0s 1ms/step - loss: 0.0431 - val_loss: 0.0436\n"
     ]
    },
    {
     "name": "stdout",
     "output_type": "stream",
     "text": [
      "Epoch 6/10\n",
      "\r",
      " 1/44 [..............................] - ETA: 0s - loss: 0.0346"
     ]
    },
    {
     "name": "stdout",
     "output_type": "stream",
     "text": [
      "\b\b\b\b\b\b\b\b\b\b\b\b\b\b\b\b\b\b\b\b\b\b\b\b\b\b\b\b\b\b\b\b\b\b\b\b\b\b\b\b\b\b\b\b\b\b\b\b\b\b\b\b\b\b\b\b\b\b\b\b\b\b\b\r",
      "44/44 [==============================] - 0s 994us/step - loss: 0.0432 - val_loss: 0.0431\n"
     ]
    },
    {
     "name": "stdout",
     "output_type": "stream",
     "text": [
      "Epoch 7/10\n",
      "\r",
      " 1/44 [..............................] - ETA: 0s - loss: 0.0496"
     ]
    },
    {
     "name": "stdout",
     "output_type": "stream",
     "text": [
      "\b\b\b\b\b\b\b\b\b\b\b\b\b\b\b\b\b\b\b\b\b\b\b\b\b\b\b\b\b\b\b\b\b\b\b\b\b\b\b\b\b\b\b\b\b\b\b\b\b\b\b\b\b\b\b\b\b\b\b\b\b\b\b\r",
      "44/44 [==============================] - 0s 1ms/step - loss: 0.0408 - val_loss: 0.0431\n"
     ]
    },
    {
     "name": "stdout",
     "output_type": "stream",
     "text": [
      "Epoch 8/10\n",
      "\r",
      " 1/44 [..............................] - ETA: 0s - loss: 0.0249"
     ]
    },
    {
     "name": "stdout",
     "output_type": "stream",
     "text": [
      "\b\b\b\b\b\b\b\b\b\b\b\b\b\b\b\b\b\b\b\b\b\b\b\b\b\b\b\b\b\b\b\b\b\b\b\b\b\b\b\b\b\b\b\b\b\b\b\b\b\b\b\b\b\b\b\b\b\b\b\b\b\b\b\r",
      "44/44 [==============================] - 0s 1ms/step - loss: 0.0400 - val_loss: 0.0431\n"
     ]
    },
    {
     "name": "stdout",
     "output_type": "stream",
     "text": [
      "Epoch 9/10\n",
      "\r",
      " 1/44 [..............................] - ETA: 0s - loss: 0.0570"
     ]
    },
    {
     "name": "stdout",
     "output_type": "stream",
     "text": [
      "\b\b\b\b\b\b\b\b\b\b\b\b\b\b\b\b\b\b\b\b\b\b\b\b\b\b\b\b\b\b\b\b\b\b\b\b\b\b\b\b\b\b\b\b\b\b\b\b\b\b\b\b\b\b\b\b\b\b\b\b\b\b\b\r",
      "44/44 [==============================] - 0s 1ms/step - loss: 0.0442 - val_loss: 0.0430\n"
     ]
    },
    {
     "name": "stdout",
     "output_type": "stream",
     "text": [
      "Epoch 10/10\n",
      "\r",
      " 1/44 [..............................] - ETA: 0s - loss: 0.0433"
     ]
    },
    {
     "name": "stdout",
     "output_type": "stream",
     "text": [
      "\b\b\b\b\b\b\b\b\b\b\b\b\b\b\b\b\b\b\b\b\b\b\b\b\b\b\b\b\b\b\b\b\b\b\b\b\b\b\b\b\b\b\b\b\b\b\b\b\b\b\b\b\b\b\b\b\b\b\b\b\b\b\b\r",
      "44/44 [==============================] - 0s 1ms/step - loss: 0.0431 - val_loss: 0.0430\n"
     ]
    }
   ],
   "source": [
    "import numpy as np\n",
    "import tensorflow as tf\n",
    "\n",
    "############################\n",
    "#Regression problem\n",
    "############################\n",
    "\n",
    "\n",
    "#sample size of 2,000 data points\n",
    "m = 2000\n",
    "\n",
    "#parameter values\n",
    "w = np.array([0.5, -1.0, 2.0])\n",
    "b = 1.0\n",
    "\n",
    "#randomly generate feature values for five feature variables \n",
    "np.random.seed(42)\n",
    "X = np.random.normal(size = 3 * m).reshape(m, 3)\n",
    "\n",
    "#generate values for the target and add some random error \n",
    "y = X.dot(w) + b + np.random.normal(size = m, scale = 0.2)\n",
    "\n",
    "#split the data in training and test data\n",
    "train_fraction = 0.70\n",
    "train_size = int(train_fraction * len(y))\n",
    "X_train, y_train = X[:train_size], y[:train_size]\n",
    "X_test, y_test = X[train_size:], y[train_size:]\n",
    "\n",
    "#define the model\n",
    "lin_model = tf.keras.Sequential([\n",
    "    tf.keras.layers.Dense(1, activation = 'linear', input_shape = [3])\n",
    "])\n",
    "\n",
    "#compile the model\n",
    "lin_model.compile(loss = 'mean_squared_error', optimizer = 'sgd')\n",
    "\n",
    "#fit the model with 25 training steps\n",
    "#by providing validation data to the function, test data gets evaluated on the fly during training\n",
    "history = lin_model.fit(X_train, y_train, epochs = 10, validation_data = (X_test, y_test))"
   ]
  },
  {
   "cell_type": "code",
   "execution_count": 9,
   "metadata": {},
   "outputs": [
    {
     "data": {
      "image/png": "[encoded data removed]",
      "text/plain": [
       "<Figure size 432x288 with 1 Axes>"
      ]
     },
     "metadata": {
      "filenames": {
       "image/png": "/Users/ralfkellner/Library/Mobile Documents/com~apple~CloudDocs/Python/Module/FinDataAnalytics/FinDataAnalytics-JB/_build/jupyter_execute/notebook_files/04_neural_networks_16_0.png"
      },
      "needs_background": "light"
     },
     "output_type": "display_data"
    }
   ],
   "source": [
    "#we can visualize the evaluation of the loss during training\n",
    "import matplotlib.pylab as plt\n",
    "\n",
    "plt.plot(history.history['loss'], label = 'training')\n",
    "plt.plot(history.history['val_loss'], label = 'validation')\n",
    "plt.legend()\n",
    "plt.show()"
   ]
  },
  {
   "cell_type": "code",
   "execution_count": 10,
   "metadata": {},
   "outputs": [
    {
     "name": "stdout",
     "output_type": "stream",
     "text": [
      "True weights are:\n",
      "[ 0.5 -1.   2. ]\n",
      "\n",
      "Estimated weights are:\n",
      "[ 0.49570015 -1.0028414   1.9957379 ]\n",
      "\n",
      "True bias is:\n",
      "1.0\n",
      "\n",
      "Estimated bias is:\n",
      "[0.99807703]\n"
     ]
    }
   ],
   "source": [
    "#take a look at the fitted parameters\n",
    "print('True weights are:')\n",
    "print(w)\n",
    "print('')\n",
    "print('Estimated weights are:')\n",
    "print(lin_model.weights[0].numpy().flatten())\n",
    "print('')\n",
    "print('True bias is:')\n",
    "print(b)\n",
    "print('')\n",
    "print('Estimated bias is:')\n",
    "print(lin_model.weights[1].numpy().flatten())"
   ]
  },
  {
   "cell_type": "code",
   "execution_count": 11,
   "metadata": {},
   "outputs": [],
   "source": [
    "import numpy as np\n",
    "import tensorflow as tf\n",
    "\n",
    "\n",
    "###############################\n",
    "#Binary classification problem\n",
    "###############################\n",
    "\n",
    "\n",
    "#sample size of 2,000 data points\n",
    "m = 2000\n",
    "\n",
    "#parameter values\n",
    "w = np.array([1.2, -0.7, 0.2])\n",
    "b = 0.5\n",
    "\n",
    "#randomly generate feature values for three feature variables \n",
    "np.random.seed(42)\n",
    "X = np.random.normal(size = 3 * m).reshape(m, 3)\n",
    "\n",
    "#now we generate values for the probabilities of P(Y_i = 1) \n",
    "z = X.dot(w) + b \n",
    "pi = 1 / (1 + np.exp(-z))\n",
    "\n",
    "#draw random Bernoulli numbers according to these probabilities\n",
    "y = np.random.binomial(n = 1, p = pi)\n",
    "\n",
    "#split the data in training and test data\n",
    "train_fraction = 0.70\n",
    "train_size = int(train_fraction * len(y))\n",
    "X_train, y_train = X[:train_size], y[:train_size]\n",
    "X_test, y_test = X[train_size:], y[train_size:]\n",
    "\n",
    "#define the model\n",
    "binary_model = tf.keras.Sequential([\n",
    "    tf.keras.layers.Dense(1, activation = 'sigmoid', input_shape = [3])\n",
    "])\n",
    "\n",
    "#compile the model\n",
    "binary_model.compile(loss = 'binary_crossentropy', optimizer = 'sgd', metrics = ['accuracy'])\n",
    "\n",
    "#fit the model with 25 training steps\n",
    "#by providing validation data to the function, test data gets evaluated on the fly during training\n",
    "history = binary_model.fit(X_train, y_train, epochs = 50, validation_data = (X_test, y_test), verbose = 0)"
   ]
  },
  {
   "cell_type": "code",
   "execution_count": 12,
   "metadata": {},
   "outputs": [
    {
     "data": {
      "image/png": "[encoded data removed]",
      "text/plain": [
       "<Figure size 720x288 with 2 Axes>"
      ]
     },
     "metadata": {
      "filenames": {
       "image/png": "/Users/ralfkellner/Library/Mobile Documents/com~apple~CloudDocs/Python/Module/FinDataAnalytics/FinDataAnalytics-JB/_build/jupyter_execute/notebook_files/04_neural_networks_19_0.png"
      },
      "needs_background": "light"
     },
     "output_type": "display_data"
    }
   ],
   "source": [
    "#we can visualize the evaluation of the loss and accuracy during training\n",
    "fig, axes = plt.subplots(1, 2, figsize = (10,4))\n",
    "axes[0].plot(history.history['loss'], label = 'training')\n",
    "axes[0].plot(history.history['val_loss'], label = 'validation')\n",
    "axes[0].set_ylabel('loss')\n",
    "axes[0].legend()\n",
    "\n",
    "axes[1].plot(history.history['accuracy'], label = 'training')\n",
    "axes[1].plot(history.history['val_accuracy'], label = 'validation')\n",
    "axes[1].set_ylabel('accuracy')\n",
    "axes[1].legend()\n",
    "plt.show()"
   ]
  },
  {
   "cell_type": "code",
   "execution_count": 13,
   "metadata": {},
   "outputs": [
    {
     "name": "stdout",
     "output_type": "stream",
     "text": [
      "True weights are:\n",
      "[ 1.2 -0.7  0.2]\n",
      "\n",
      "Estimated weights are:\n",
      "[ 1.1865218  -0.70878136  0.1799465 ]\n",
      "\n",
      "True bias is:\n",
      "0.5\n",
      "\n",
      "Estimated bias is:\n",
      "[0.51307243]\n"
     ]
    }
   ],
   "source": [
    "#take a look at the fitted parameters\n",
    "print('True weights are:')\n",
    "print(w)\n",
    "print('')\n",
    "print('Estimated weights are:')\n",
    "print(binary_model.weights[0].numpy().flatten())\n",
    "print('')\n",
    "print('True bias is:')\n",
    "print(b)\n",
    "print('')\n",
    "print('Estimated bias is:')\n",
    "print(binary_model.weights[1].numpy().flatten())"
   ]
  },
  {
   "cell_type": "code",
   "execution_count": 14,
   "metadata": {},
   "outputs": [],
   "source": [
    "import numpy as np\n",
    "from sklearn.preprocessing import OneHotEncoder\n",
    "\n",
    "def softmax(z):\n",
    "    return [np.exp(zk) / np.sum(np.exp(z)) for zk in z]\n",
    "\n",
    "###############################\n",
    "#Binary classification problem\n",
    "###############################\n",
    "\n",
    "#sample size of 2,000 data points\n",
    "m = 2000\n",
    "\n",
    "#parameter values\n",
    "np.random.seed(42)\n",
    "W = np.random.normal(size = 3 * 3).reshape(3, 3)\n",
    "b = np.random.normal(size = 3)\n",
    "\n",
    "#randomly generate feature values for three feature variables \n",
    "X = np.random.normal(size = 3 * m).reshape(m, 3)\n",
    "\n",
    "#now we generate values for the probabilities of P(Y_i = 1), P(Y_i = 2), P(Y_i = 3) \n",
    "Z = X.dot(W) + b\n",
    "pi = [softmax(z_i) for z_i in Z]\n",
    "\n",
    "#draw random observations for Y_i, given probabilities pi_i\n",
    "Y = [np.random.choice([1,2,3], size = 1, replace = False, p = p_i)[0] for p_i in pi]\n",
    "\n",
    "#let us transform Y to a one hot format\n",
    "Y = np.array(Y).reshape(-1, 1)\n",
    "encoder = OneHotEncoder()\n",
    "encoder.fit(Y)\n",
    "y = encoder.transform(Y).toarray()\n",
    "\n",
    "#split the data in training and test data\n",
    "train_fraction = 0.70\n",
    "train_size = int(train_fraction * len(y))\n",
    "X_train, y_train = X[:train_size], y[:train_size]\n",
    "X_test, y_test = X[train_size:], y[train_size:]\n",
    "\n",
    "#define the model\n",
    "multi_model = tf.keras.Sequential([\n",
    "    tf.keras.layers.Dense(y_train.shape[1], activation = 'softmax', input_shape = [3])\n",
    "])\n",
    "\n",
    "#compile the model\n",
    "multi_model.compile(loss = 'categorical_crossentropy', optimizer = 'sgd', metrics = ['accuracy'])\n",
    "\n",
    "#fit the model with 50 training steps\n",
    "#by providing validation data to the function, test data gets evaluated on the fly during training\n",
    "history = multi_model.fit(X_train, y_train, epochs = 50, validation_data = (X_test, y_test), verbose = 0)"
   ]
  },
  {
   "cell_type": "code",
   "execution_count": 15,
   "metadata": {},
   "outputs": [
    {
     "data": {
      "image/png": "[encoded data removed]",
      "text/plain": [
       "<Figure size 720x288 with 2 Axes>"
      ]
     },
     "metadata": {
      "filenames": {
       "image/png": "/Users/ralfkellner/Library/Mobile Documents/com~apple~CloudDocs/Python/Module/FinDataAnalytics/FinDataAnalytics-JB/_build/jupyter_execute/notebook_files/04_neural_networks_22_0.png"
      },
      "needs_background": "light"
     },
     "output_type": "display_data"
    }
   ],
   "source": [
    "#we can visualize the evaluation of the loss and accuracy during training\n",
    "fig, axes = plt.subplots(1, 2, figsize = (10,4))\n",
    "axes[0].plot(history.history['loss'], label = 'training')\n",
    "axes[0].plot(history.history['val_loss'], label = 'validation')\n",
    "axes[0].set_ylabel('loss')\n",
    "axes[0].legend()\n",
    "\n",
    "axes[1].plot(history.history['accuracy'], label = 'training')\n",
    "axes[1].plot(history.history['val_accuracy'], label = 'validation')\n",
    "axes[1].set_ylabel('accuracy')\n",
    "axes[1].legend()\n",
    "plt.show()"
   ]
  },
  {
   "cell_type": "code",
   "execution_count": 16,
   "metadata": {},
   "outputs": [
    {
     "name": "stdout",
     "output_type": "stream",
     "text": [
      "True weights are:\n",
      "[[ 0.49671415 -0.1382643   0.64768854]\n",
      " [ 1.52302986 -0.23415337 -0.23413696]\n",
      " [ 1.57921282  0.76743473 -0.46947439]]\n",
      "\n",
      "Estimated weights are:\n",
      "[[ 0.1420517  -0.4404869   0.25770253]\n",
      " [ 0.96309954 -0.66934144 -0.5059118 ]\n",
      " [ 1.0049574   0.09079347 -0.95471317]]\n",
      "\n",
      "True bias is:\n",
      "[ 0.54256004 -0.46341769 -0.46572975]\n",
      "\n",
      "Estimated bias is:\n",
      "[ 0.70458204 -0.36992973 -0.3346519 ]\n"
     ]
    }
   ],
   "source": [
    "#take a look at the fitted parameters\n",
    "print('True weights are:')\n",
    "print(W)\n",
    "print('')\n",
    "print('Estimated weights are:')\n",
    "print(multi_model.weights[0].numpy())\n",
    "print('')\n",
    "print('True bias is:')\n",
    "print(b)\n",
    "print('')\n",
    "print('Estimated bias is:')\n",
    "print(multi_model.weights[1].numpy().flatten())"
   ]
  },
  {
   "cell_type": "markdown",
   "metadata": {},
   "source": [
    "## Feature Importance\n",
    "\n",
    "Again, we can make use of partial derivatives for predictions in response to changes of input features in order to derive feature importance with forward neural networks. Given estimated parameters, for each single prediction $\\hat{f}_{\\text{FNN}}(\\boldsymbol{x}_{i})$, we can determine its sensitivity towards feature $x_{ij}$ by deriving: \n",
    "\n",
    "$$\n",
    "\\frac{\\partial \\hat{f}_{\\text{FNN}}(\\boldsymbol{x}_{i})}{\\partial x_{ij}} \n",
    "$$\n",
    "\n",
    "To gain insights regarding the global impact of feature $X_j$, we use the average of partial derivatives over all observations $i = 1, ..., m$. For the baseline algorithms the sign of the partial derivative was always identical for each observation. This must not hold true for forward neural networks with one or more hidden layers. This is why we use squared partial derivatives, average them and then use the square root:\n",
    "\n",
    "$$\n",
    "\\sqrt{\\frac{1}{n} \\sum_i \\left(\\frac{\\partial \\hat{f}_{\\boldsymbol{w}, b}(\\boldsymbol{x}_{ij})}{\\partial x_{ij}} \\right)^2}\n",
    "$$\n",
    "\n",
    "Again, we will derive a normalizing value $C$ such that absolute values of feature importances over all features sum up to one. However by squaring partial derivatives for each observation, we loose track regarding the impact direction. To keep track of this, we define another function:\n",
    "\n",
    "$$\n",
    "sgn \\left( \\xi({x_j})\\right) =  \n",
    "\\begin{cases}\n",
    "- \\xi({x_j}) & \\text{if } \\frac{1}{n} \\sum_i \\left(\\frac{\\partial \\hat{f}_{\\boldsymbol{w}, b}(\\boldsymbol{x}_{ij})}{\\partial x_{ij}} \\right) < 0\\\\\n",
    "\\xi({x_j}) & \\text{else }\n",
    "\\end{cases}\n",
    "$$\n",
    "\n",
    "Overall feature importance is defined as:\n",
    "\n",
    "$$\n",
    "FI_{x_j} = sgn \\left( \\frac{1}{C} \\sqrt{\\frac{1}{n} \\sum_i \\left(\\frac{\\partial \\hat{f}_{\\boldsymbol{w}, b}(\\boldsymbol{x}_{ij})}{\\partial x_{ij}} \\right)^2} \\right)\n",
    "$$\n",
    "\n",
    "While this might look rather complex, it really is not. What we are doing here, is to determine the average sensitivity of each prediction with respect to feature $j$. If on average the impact is negative, we assume the global impact to be negative, otherwise, we assume it to be positive. To derive feature importance, one needs to use auto-differentiation again, but this time with fixed parameters. This task can be conducted with tensorflow or other auto-differentiation libraries, such as the JAX package in Python. However, as this is can be a little challenging and is beyond the scope of this chapter, we omit the illustration of an example at this point. Nevertheless, once it is implemented, it can be analyzed which features contribute the most or the least to predictions, even though we use networks with multiple layers. In my opinion, this should significantly reduce the prejudice of neural networks being black boxes."
   ]
  }
 ],
 "metadata": {
  "celltoolbar": "Tags",
  "kernelspec": {
   "display_name": "Python 3",
   "language": "python",
   "name": "python3"
  },
  "language_info": {
   "codemirror_mode": {
    "name": "ipython",
    "version": 3
   },
   "file_extension": ".py",
   "mimetype": "text/x-python",
   "name": "python",
   "nbconvert_exporter": "python",
   "pygments_lexer": "ipython3",
   "version": "3.8.3"
  }
 },
 "nbformat": 4,
 "nbformat_minor": 4
}