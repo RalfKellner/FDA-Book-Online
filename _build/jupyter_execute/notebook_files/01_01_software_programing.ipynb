{
 "cells": [
  {
   "cell_type": "markdown",
   "metadata": {},
   "source": [
    "# Which Python?\n",
    "\n",
    "Using Python for data analysis can be done in various ways. Python is an interpreted general-purpose programing language and all you basically need to execute python is an interpreter which can translate between the machine and you speaking in Python. However, especially for beginners, I recommend to install a complete Python distribution which manages the installation and use of Python. More specifically, I recommend to download and install the Anaconda package manager ([follow this link!](https://www.anaconda.com/products/individual)) which will not only install Python, but many software and language tools that can be helpful for analyzing data. Depending on your operation system, choose the appropriate installer and follow its guidance. \n",
    "\n",
    "Once your installation is finished, you can open the Anaconda Navigator as explained [here](https://docs.anaconda.com/anaconda/user-guide/getting-started/) and make sure that Juypter Notebook is installed, if not, you should do so. After Jupyter Notebook is installed, you may start it from the Anaconda Navigator menu or directly open a terminal and type \"jupyter notebook\". After that, you should see something like this cell:\n",
    "<br>\n",
    "\n",
    "<img src=\"../images/jupyter_cell.png\" alt=\"jupyter_cell\" class=\"bg-primary\" width=\"1000px\">\n",
    "\n",
    "Jupyter notebook is a web based application interface for documenting and among many other things can be used to execute and document python code. To execute python code simply click in the cell and write the following and click on the \"Run\" symbol above the cell."
   ]
  },
  {
   "cell_type": "code",
   "execution_count": 1,
   "metadata": {},
   "outputs": [
    {
     "name": "stdout",
     "output_type": "stream",
     "text": [
      "hello world!\n"
     ]
    }
   ],
   "source": [
    "print('hello world!')"
   ]
  },
  {
   "cell_type": "markdown",
   "metadata": {},
   "source": [
    "...and the above should happen. A recommendation is to work with shortcuts right from the start. Click somewhere except in the cell and press \"h\". An overview with keyboard shortcuts and corresponding actions should occur. For instance, we can press \"b\" if we are not inside a cell to generate a new cell below the current cell and if we are inside a cell when pressing \"control + Enter\" (at least on MacOS). Jupyter notebook does not only offer to execute code, we can also write plain text, math equations and many more if we convert the cell to markdown format. To learn more about markdown [you can read this](https://jupyter-notebook.readthedocs.io/en/stable/examples/Notebook/Working%20With%20Markdown%20Cells.html). Ok, now we can execute python code and learn how python code looks like."
   ]
  },
  {
   "cell_type": "markdown",
   "metadata": {},
   "source": [
    "# Fundamentals for using Python\n",
    "\n",
    "Phyton can be used in various ways and for various tasks. I will focus on the tasks which will be most important for us. The path I choose to give you an idea what you should learn in the beginning is the following.\n",
    "\n",
    "<ol>\n",
    "    <li>Python as a calculator</li>\n",
    "    <li>Objects</li>\n",
    "    <li>Data structures</li>\n",
    "    <li>Functions</li>\n",
    "    <li>Control structures and loops</li>\n",
    "    <li>Object orientation</li>\n",
    "    <li>Modules</li>\n",
    "</ol>"
   ]
  },
  {
   "cell_type": "markdown",
   "metadata": {},
   "source": [
    "## Python as a Calculator\n",
    "If you are not familiar with any programing languages so far, it might help as a start, that python is able to execute calculations as you know it from a simple calculator, for instance we can add $+$, subtract $-$, multiply $*$ divide $/$ or perform the exponential function with arbitrary base, for instance $2^3$. This is achieved by: "
   ]
  },
  {
   "cell_type": "code",
   "execution_count": 2,
   "metadata": {},
   "outputs": [
    {
     "name": "stdout",
     "output_type": "stream",
     "text": [
      "4\n",
      "-2\n",
      "4\n",
      "0.5\n",
      "8\n"
     ]
    }
   ],
   "source": [
    "print(2 + 2)\n",
    "print(2 - 4)\n",
    "print(2 * 2)\n",
    "print(2 / 4)\n",
    "print(2**3)"
   ]
  },
  {
   "cell_type": "markdown",
   "metadata": {},
   "source": [
    "Besides typical math operators, Python already comes along with so called build-in functions. In general, a function is executed by writing the function name in addition with parentheses and, if necessary, putting arguments between parentheses, e.g.:"
   ]
  },
  {
   "cell_type": "code",
   "execution_count": 3,
   "metadata": {},
   "outputs": [
    {
     "data": {
      "text/plain": [
       "2"
      ]
     },
     "execution_count": 3,
     "metadata": {},
     "output_type": "execute_result"
    }
   ],
   "source": [
    "abs(-2)"
   ]
  },
  {
   "cell_type": "markdown",
   "metadata": {},
   "source": [
    "Note python distinguishes between integer numbers and floating point numbers. So in some cases 2 is handled different to 2.0. Furthermore, as you already have seen in the very first example, Python is also able to handle data types different to numbers, i.e. strings...."
   ]
  },
  {
   "cell_type": "code",
   "execution_count": 4,
   "metadata": {},
   "outputs": [
    {
     "name": "stdout",
     "output_type": "stream",
     "text": [
      "This is kind of cool...\n"
     ]
    }
   ],
   "source": [
    "print('This is kind of cool...')"
   ]
  },
  {
   "cell_type": "markdown",
   "metadata": {},
   "source": [
    "However, if we want to combine numbers and strings we first need to convert numbers to strings because different data types can not be used together."
   ]
  },
  {
   "cell_type": "code",
   "execution_count": 5,
   "metadata": {},
   "outputs": [
    {
     "name": "stdout",
     "output_type": "stream",
     "text": [
      "This does not cause an error when printing the number: 2\n"
     ]
    },
    {
     "ename": "TypeError",
     "evalue": "can only concatenate str (not \"int\") to str",
     "output_type": "error",
     "traceback": [
      "\u001b[0;31m---------------------------------------------------------------------------\u001b[0m",
      "\u001b[0;31mTypeError\u001b[0m                                 Traceback (most recent call last)",
      "\u001b[0;32m<ipython-input-5-d82a66fa042b>\u001b[0m in \u001b[0;36m<module>\u001b[0;34m\u001b[0m\n\u001b[1;32m      1\u001b[0m \u001b[0mprint\u001b[0m\u001b[0;34m(\u001b[0m\u001b[0;34m'This does not cause an error when printing the number: '\u001b[0m \u001b[0;34m+\u001b[0m \u001b[0mstr\u001b[0m\u001b[0;34m(\u001b[0m\u001b[0;36m2\u001b[0m\u001b[0;34m)\u001b[0m\u001b[0;34m)\u001b[0m\u001b[0;34m\u001b[0m\u001b[0;34m\u001b[0m\u001b[0m\n\u001b[0;32m----> 2\u001b[0;31m \u001b[0mprint\u001b[0m\u001b[0;34m(\u001b[0m\u001b[0;34m'But this causes an error'\u001b[0m \u001b[0;34m+\u001b[0m \u001b[0;36m2\u001b[0m\u001b[0;34m)\u001b[0m\u001b[0;34m\u001b[0m\u001b[0;34m\u001b[0m\u001b[0m\n\u001b[0m",
      "\u001b[0;31mTypeError\u001b[0m: can only concatenate str (not \"int\") to str"
     ]
    }
   ],
   "source": [
    "print('This does not cause an error when printing the number: ' + str(2))\n",
    "print('But this causes an error' + 2)"
   ]
  },
  {
   "cell_type": "markdown",
   "metadata": {},
   "source": [
    "Sometimes we may want to write something to our code which is not meant to be printed as output, but should serve as a documentation for us. This can be achieved by placing the #-Symbol before we write something and is called a comment. Comments are very important to properly code, especially when you are writing a long script including many different steps of calculation and analysis."
   ]
  },
  {
   "cell_type": "code",
   "execution_count": 26,
   "metadata": {},
   "outputs": [
    {
     "data": {
      "text/plain": [
       "4"
      ]
     },
     "execution_count": 26,
     "metadata": {},
     "output_type": "execute_result"
    }
   ],
   "source": [
    "#This is a comment and is not executed, for instance we can comment that 2 + 2 is calculated in the next line:\n",
    "2 + 2"
   ]
  },
  {
   "cell_type": "markdown",
   "metadata": {},
   "source": [
    "## Objects in Python\n",
    "\n",
    "Python is an object-oriented programing language, so almost everything is an object in python. We will explain this in more detail at the end of this section. For the moment, you should know that we can assign numbers, strings or results of calculations to an object. This makes it much easier to continue calculations at a later stage."
   ]
  },
  {
   "cell_type": "code",
   "execution_count": 27,
   "metadata": {},
   "outputs": [
    {
     "name": "stdout",
     "output_type": "stream",
     "text": [
      "-2.0\n",
      "2.0\n",
      "0.0\n"
     ]
    }
   ],
   "source": [
    "#assign the number -2.0 to the variable a\n",
    "a = -2.0\n",
    "print(a)\n",
    "\n",
    "#assign the absolte value of a to the variable b\n",
    "b = abs(a)\n",
    "print(b)\n",
    "\n",
    "#print the sum of a and b\n",
    "print(a + b)"
   ]
  },
  {
   "cell_type": "markdown",
   "metadata": {},
   "source": [
    "## Data Structures\n",
    "\n",
    "Assigning single numbers to one particular object does not seem to be an appropriate approach for data analysis. Typically, we encounter a big amount of data points, e.g. stock prices of multiple stocks for a number of days. For a more efficient handling of data, certain data structures do exist. We start with the basic structures, namely:\n",
    "\n",
    "<ol>\n",
    "    <li>Lists</li>\n",
    "    <li>Dictionaries</li>\n",
    "    <li>Tuples</li>\n",
    "</ol>"
   ]
  },
  {
   "cell_type": "markdown",
   "metadata": {},
   "source": [
    "**List:** A list is a collection of homogeneous or heterogeneous objects. Tpyically, lists are generated with square brackets or the *list*-function."
   ]
  },
  {
   "cell_type": "code",
   "execution_count": 3,
   "metadata": {},
   "outputs": [
    {
     "name": "stdout",
     "output_type": "stream",
     "text": [
      "[1, 2, 3]\n",
      "[1, 2, 3]\n"
     ]
    }
   ],
   "source": [
    "first_list = [1, 2, 3]\n",
    "second_list = list((1, 2, 3))\n",
    "\n",
    "print(first_list)\n",
    "print(second_list)"
   ]
  },
  {
   "cell_type": "markdown",
   "metadata": {},
   "source": [
    "Lists are very flexible and can be nested, this means a list can be a collection of list which are a collection of listst and so on, e.g.:"
   ]
  },
  {
   "cell_type": "code",
   "execution_count": 4,
   "metadata": {},
   "outputs": [
    {
     "name": "stdout",
     "output_type": "stream",
     "text": [
      "[[1, 2, 3], ['hello_world']]\n"
     ]
    }
   ],
   "source": [
    "one_list = [1, 2, 3]\n",
    "another_list = ['hello_world']\n",
    "\n",
    "overall_list = [one_list, another_list]\n",
    "\n",
    "print(overall_list)"
   ]
  },
  {
   "cell_type": "markdown",
   "metadata": {},
   "source": [
    "To access elements of a list, we can use indexing, starting the count at $0$: "
   ]
  },
  {
   "cell_type": "code",
   "execution_count": 12,
   "metadata": {},
   "outputs": [
    {
     "name": "stdout",
     "output_type": "stream",
     "text": [
      "1\n",
      "3\n",
      "[1, 2, 3]\n",
      "[4, 5, 6]\n",
      "[1, 2, 3, 4, 5]\n",
      "6\n"
     ]
    }
   ],
   "source": [
    "#create list\n",
    "my_list = [1, 2, 3, 4, 5, 6]\n",
    "\n",
    "#print first value in list\n",
    "print(my_list[0])\n",
    "\n",
    "#print third value in list\n",
    "print(my_list[2])\n",
    "\n",
    "#print the first three entries in list\n",
    "print(my_list[:3])\n",
    "\n",
    "#print the last three entries in list\n",
    "print(my_list[-3:])\n",
    "\n",
    "#print all values except the last entry\n",
    "print(my_list[:-1])\n",
    "\n",
    "#print the last entry in list\n",
    "print(my_list[-1])"
   ]
  },
  {
   "cell_type": "markdown",
   "metadata": {},
   "source": [
    "As indicated earlier, almost everything is an object in python. Lists are objects and objects usually have certain methods that can be accessed by the objects name and a dot. Here, you can see some usefull examples of list-methods:"
   ]
  },
  {
   "cell_type": "code",
   "execution_count": 23,
   "metadata": {},
   "outputs": [
    {
     "name": "stdout",
     "output_type": "stream",
     "text": [
      "[5, 3, 2, 7, 9, 7]\n",
      "2\n",
      "1\n",
      "[2, 3, 5, 7, 7, 9]\n",
      "[9, 7, 7, 5, 3, 2]\n"
     ]
    }
   ],
   "source": [
    "my_list = [5, 3, 2, 7, 9]\n",
    "\n",
    "#add a value to a list\n",
    "my_list.append(7)\n",
    "print(my_list)\n",
    "\n",
    "#count how many 7s are in the list\n",
    "print(my_list.count(7))\n",
    "\n",
    "#get the index at which position we find the value of 3\n",
    "print(my_list.index(3))\n",
    "\n",
    "#sort the list\n",
    "my_list.sort()\n",
    "print(my_list)\n",
    "\n",
    "#reverse the list\n",
    "my_list.reverse()\n",
    "print(my_list)"
   ]
  },
  {
   "cell_type": "markdown",
   "metadata": {},
   "source": [
    "Lists are mutable, this means single elements can be accessed and changed by us:"
   ]
  },
  {
   "cell_type": "code",
   "execution_count": 25,
   "metadata": {},
   "outputs": [
    {
     "name": "stdout",
     "output_type": "stream",
     "text": [
      "5\n",
      "99\n"
     ]
    }
   ],
   "source": [
    "print(my_list[3])\n",
    "my_list[3] = 99\n",
    "print(my_list[3])"
   ]
  },
  {
   "cell_type": "markdown",
   "metadata": {},
   "source": [
    "One very useful and pythonic thing is list comprehensions. By a list comprehension, we can do the same thing with every element in the list and generate a list of the result of these operations. Assume we want to add the number $2$ to each element in the list. This can be done by:"
   ]
  },
  {
   "cell_type": "code",
   "execution_count": 54,
   "metadata": {},
   "outputs": [
    {
     "name": "stdout",
     "output_type": "stream",
     "text": [
      "[1, 2, 3]\n",
      "[3, 4, 5]\n"
     ]
    }
   ],
   "source": [
    "#create a list\n",
    "my_list = [1, 2, 3]\n",
    "print(my_list)\n",
    "\n",
    "#add 2 two every element in the list \n",
    "add_two = [x + 2 for x in my_list]\n",
    "print(add_two)\n",
    "\n",
    "#x serves as a placeholder for each element in the list which gets processed"
   ]
  },
  {
   "cell_type": "markdown",
   "metadata": {},
   "source": [
    "**Tuple:**\n",
    "Unlike lists, tuples are not mutable, but besides that look similar to lists. Tuples are created with round brackets or with the *tuple*-function. Indexing can be done a with lists."
   ]
  },
  {
   "cell_type": "code",
   "execution_count": 34,
   "metadata": {},
   "outputs": [
    {
     "name": "stdout",
     "output_type": "stream",
     "text": [
      "2\n",
      "(1, 2)\n",
      "1\n",
      "1\n"
     ]
    },
    {
     "ename": "TypeError",
     "evalue": "'tuple' object does not support item assignment",
     "output_type": "error",
     "traceback": [
      "\u001b[0;31m---------------------------------------------------------------------------\u001b[0m",
      "\u001b[0;31mTypeError\u001b[0m                                 Traceback (most recent call last)",
      "\u001b[0;32m<ipython-input-34-257da70f9a60>\u001b[0m in \u001b[0;36m<module>\u001b[0;34m\u001b[0m\n\u001b[1;32m     14\u001b[0m \u001b[0;34m\u001b[0m\u001b[0m\n\u001b[1;32m     15\u001b[0m \u001b[0;31m#what is not possible is to append further elements or to alter existing elements\u001b[0m\u001b[0;34m\u001b[0m\u001b[0;34m\u001b[0m\u001b[0;34m\u001b[0m\u001b[0m\n\u001b[0;32m---> 16\u001b[0;31m \u001b[0mmy_tuple\u001b[0m\u001b[0;34m[\u001b[0m\u001b[0;36m1\u001b[0m\u001b[0;34m]\u001b[0m \u001b[0;34m=\u001b[0m \u001b[0;36m99\u001b[0m\u001b[0;34m\u001b[0m\u001b[0;34m\u001b[0m\u001b[0m\n\u001b[0m",
      "\u001b[0;31mTypeError\u001b[0m: 'tuple' object does not support item assignment"
     ]
    }
   ],
   "source": [
    "my_tuple = (1, 2, 3)\n",
    "\n",
    "#print the second element of the tuple\n",
    "print(my_tuple[1])\n",
    "\n",
    "#print the first two elements of the tuple\n",
    "print(my_tuple[:2])\n",
    "\n",
    "#count the elements in a tuple\n",
    "print(my_tuple.count(2))\n",
    "\n",
    "#get the index for an element\n",
    "print(my_tuple.index(2))\n",
    "\n",
    "#what is not possible is to append further elements or to alter existing elements\n",
    "my_tuple[1] = 99"
   ]
  },
  {
   "cell_type": "markdown",
   "metadata": {},
   "source": [
    "A useful attribute of tuples is unpacking and better explained by example."
   ]
  },
  {
   "cell_type": "code",
   "execution_count": 41,
   "metadata": {},
   "outputs": [
    {
     "name": "stdout",
     "output_type": "stream",
     "text": [
      "(1, 2)\n",
      "1\n",
      "2\n"
     ]
    }
   ],
   "source": [
    "#create a tuple with two numbers\n",
    "one_two_tuple = (1, 2)\n",
    "print(one_two_tuple)\n",
    "\n",
    "#now unpack the two values and assign these values to objects 'one' and 'two'\n",
    "one, two = one_two_tuple\n",
    "print(one)\n",
    "print(two)"
   ]
  },
  {
   "cell_type": "markdown",
   "metadata": {},
   "source": [
    "**Dictionary:** Dictionaries are mapping type data types and very useful. A dictionary is a collection of key-value-pairs and is created by curly brackets or the *dict*-function. Dictionaries are mutable objects and elements of dictionaries are accessed by the key, not be indexing. Dictionaries come along with useful methods such as evaluating if a key exists in the dictionary, get a list of keys, values or key-value pairs."
   ]
  },
  {
   "cell_type": "code",
   "execution_count": 47,
   "metadata": {},
   "outputs": [
    {
     "name": "stdout",
     "output_type": "stream",
     "text": [
      "{'a': 1, 'b': 2}\n",
      "1\n",
      "1\n",
      "20\n",
      "{'a': 1, 'b': 20, 'c': 5}\n",
      "True\n",
      "False\n",
      "dict_keys(['a', 'b', 'c'])\n",
      "dict_values([1, 20, 5])\n",
      "dict_items([('a', 1), ('b', 20), ('c', 5)])\n"
     ]
    }
   ],
   "source": [
    "my_dict = {'a': 1, 'b': 2}\n",
    "print(my_dict)\n",
    "\n",
    "#access the element a\n",
    "print(my_dict['a'])\n",
    "#this can also be done, using the get-method\n",
    "print(my_dict.get('a'))\n",
    "\n",
    "#change the value of b\n",
    "my_dict['b'] = 20\n",
    "print(my_dict['b'])\n",
    "\n",
    "#add c and its value\n",
    "my_dict['c'] = 5\n",
    "print(my_dict)\n",
    "\n",
    "#analyze if the key 'c' is in the dictionary\n",
    "print('c' in my_dict)\n",
    "\n",
    "#see what happens if the key is not in the dictionary\n",
    "print('d' in my_dict)\n",
    "\n",
    "#get the list of keys in the dictionary\n",
    "print(my_dict.keys())\n",
    "\n",
    "#get the list of values in the dictionary\n",
    "print(my_dict.values())\n",
    "\n",
    "#get all key-value pairs\n",
    "print(my_dict.items())\n"
   ]
  },
  {
   "cell_type": "markdown",
   "metadata": {},
   "source": [
    "More data types and methods exist, but knowing these three will be enough for the start. Note that functions exist which can be executed for all data types. For instance, if you are not sure what data type you observe, you can use the *type*-function. Or, use the *len*-function for finding the number of elements in an object, or use *del* if you want to delete an object. The more you work with python, the more useful functions you will get to learn. This is not something to worry about in the beginning because if naturally evolves during work."
   ]
  },
  {
   "cell_type": "code",
   "execution_count": 58,
   "metadata": {},
   "outputs": [
    {
     "name": "stdout",
     "output_type": "stream",
     "text": [
      "<class 'list'>\n",
      "<class 'tuple'>\n",
      "<class 'dict'>\n",
      "3\n",
      "3\n",
      "3\n"
     ]
    },
    {
     "ename": "NameError",
     "evalue": "name 'a_list' is not defined",
     "output_type": "error",
     "traceback": [
      "\u001b[0;31m---------------------------------------------------------------------------\u001b[0m",
      "\u001b[0;31mNameError\u001b[0m                                 Traceback (most recent call last)",
      "\u001b[0;32m<ipython-input-58-0e5031cfcfd1>\u001b[0m in \u001b[0;36m<module>\u001b[0;34m\u001b[0m\n\u001b[1;32m     18\u001b[0m \u001b[0;32mdel\u001b[0m\u001b[0;34m(\u001b[0m\u001b[0ma_dict\u001b[0m\u001b[0;34m)\u001b[0m\u001b[0;34m\u001b[0m\u001b[0;34m\u001b[0m\u001b[0m\n\u001b[1;32m     19\u001b[0m \u001b[0;34m\u001b[0m\u001b[0m\n\u001b[0;32m---> 20\u001b[0;31m \u001b[0mprint\u001b[0m\u001b[0;34m(\u001b[0m\u001b[0ma_list\u001b[0m\u001b[0;34m)\u001b[0m\u001b[0;34m\u001b[0m\u001b[0;34m\u001b[0m\u001b[0m\n\u001b[0m",
      "\u001b[0;31mNameError\u001b[0m: name 'a_list' is not defined"
     ]
    }
   ],
   "source": [
    "a_list = [4, 2, 5]\n",
    "a_tuple = (4, 2, 5)\n",
    "a_dict = {'a': 4, 'b': 2, 'c': 5}\n",
    "\n",
    "#what types are these objects\n",
    "print(type(a_list))\n",
    "print(type(a_tuple))\n",
    "print(type(a_dict))\n",
    "\n",
    "#how many elements are stored in these objects\n",
    "print(len(a_list))\n",
    "print(len(a_tuple))\n",
    "print(len(a_dict))\n",
    "\n",
    "#let us delete these objects\n",
    "del(a_list)\n",
    "del(a_tuple)\n",
    "del(a_dict)\n",
    "\n",
    "print(a_list)"
   ]
  },
  {
   "cell_type": "markdown",
   "metadata": {},
   "source": [
    "## Functions\n",
    "When we want to execute the same task multiple times, we can define a function to do the job and save us some time and code. Functions are a sequence of instructions performing a task bundled in a unit. You already saw some built-in function like *type*, *len* or *del* which perform the tasks of showing the object type, the number of elements in an object or to delete the object. Luckily, python also gives us the opportunity to define our own functions, if we want to perform some tasks which are not captured by existing functions. To define a function, we use the keyword 'def' which is following by a function-name that we choose and round brackets. After the brackets a colon follows with a linebreak. The so called body is defined in an indented list of instructions. Functions can handle input and are able to output results (both is optional). Let us define the *add_two*-function which adds a value of $2$ to an input variable x and returns the result."
   ]
  },
  {
   "cell_type": "code",
   "execution_count": 59,
   "metadata": {},
   "outputs": [
    {
     "name": "stdout",
     "output_type": "stream",
     "text": [
      "4\n",
      "7\n"
     ]
    }
   ],
   "source": [
    "def add_two(x):\n",
    "    return x + 2\n",
    "\n",
    "#execute the function\n",
    "print(add_two(2))\n",
    "print(add_two(5))"
   ]
  },
  {
   "cell_type": "markdown",
   "metadata": {},
   "source": [
    "As you can see, we use the return keyword for returning results of the function body. x serves as a placeholder for which we also could have used any other arbitrary name. We can also set a default value for x in the squared brackets which is used as long as we do not provide additional input. We can also return more than one number or print something to the screen during execution."
   ]
  },
  {
   "cell_type": "code",
   "execution_count": 7,
   "metadata": {},
   "outputs": [
    {
     "name": "stdout",
     "output_type": "stream",
     "text": [
      "We add 2 to the number: 42!\n",
      "(42, 44)\n",
      "We add 2 to the number: 21!\n",
      "(21, 23)\n"
     ]
    }
   ],
   "source": [
    "def add_two_new(a_number = 42):\n",
    "    print('We add 2 to the number: ' + str(a_number) + '!')\n",
    "    return a_number, a_number + 2\n",
    "\n",
    "#execute with default value\n",
    "print(add_two_new())\n",
    "\n",
    "#execute with 21\n",
    "print(add_two_new(21))"
   ]
  },
  {
   "cell_type": "markdown",
   "metadata": {},
   "source": [
    "You may have noticed that the function returns a tuple. This can be used when we want to save the results as objects again."
   ]
  },
  {
   "cell_type": "code",
   "execution_count": 67,
   "metadata": {},
   "outputs": [
    {
     "name": "stdout",
     "output_type": "stream",
     "text": [
      "We add 2 to the number: 21!\n",
      "(21, 23)\n",
      "We add 2 to the number: 3!\n",
      "3\n",
      "5\n"
     ]
    }
   ],
   "source": [
    "#either save the tuple as a whole\n",
    "input_output = add_two_new(a_number = 21)\n",
    "print(input_output)\n",
    "\n",
    "#or use unpacking to save the result separately\n",
    "inpt, outpt = add_two_new(a_number = 3)\n",
    "print(inpt)\n",
    "print(outpt)"
   ]
  },
  {
   "cell_type": "markdown",
   "metadata": {},
   "source": [
    "It is also important to know that objects which are assigned during function execution are local. This means they are available during execution, but not globally after exection. For instance:"
   ]
  },
  {
   "cell_type": "code",
   "execution_count": 74,
   "metadata": {},
   "outputs": [
    {
     "name": "stdout",
     "output_type": "stream",
     "text": [
      "1\n"
     ]
    },
    {
     "ename": "NameError",
     "evalue": "name 'local' is not defined",
     "output_type": "error",
     "traceback": [
      "\u001b[0;31m---------------------------------------------------------------------------\u001b[0m",
      "\u001b[0;31mNameError\u001b[0m                                 Traceback (most recent call last)",
      "\u001b[0;32m<ipython-input-74-52ac3e60130d>\u001b[0m in \u001b[0;36m<module>\u001b[0;34m\u001b[0m\n\u001b[1;32m      9\u001b[0m \u001b[0;34m\u001b[0m\u001b[0m\n\u001b[1;32m     10\u001b[0m \u001b[0;31m#but after execution the value is no longer known\u001b[0m\u001b[0;34m\u001b[0m\u001b[0;34m\u001b[0m\u001b[0;34m\u001b[0m\u001b[0m\n\u001b[0;32m---> 11\u001b[0;31m \u001b[0mprint\u001b[0m\u001b[0;34m(\u001b[0m\u001b[0mlocal\u001b[0m\u001b[0;34m)\u001b[0m\u001b[0;34m\u001b[0m\u001b[0;34m\u001b[0m\u001b[0m\n\u001b[0m",
      "\u001b[0;31mNameError\u001b[0m: name 'local' is not defined"
     ]
    }
   ],
   "source": [
    "def local_var():\n",
    "    #assign a value of 1 to the object local\n",
    "    local = 1\n",
    "    #return this value\n",
    "    print(local)\n",
    "    \n",
    "#if we execute the function, pyhton knows during execution local has a value of 1\n",
    "local_var()\n",
    "\n",
    "#but after execution the value is no longer known\n",
    "print(local)"
   ]
  },
  {
   "cell_type": "markdown",
   "metadata": {},
   "source": [
    "This relates what is called scope in python. We have something called a local and a global scope (and two other scopes which are not important to understand the point made here). The local scope is where python first looks for  when it encounters the function during execution. For instance in our example, the function needs to find the object local to print its value when we execute the function *local_var*, it first starts its search in the local scope of the function. In our example python finds the object local and prints its value found in the local scope. Given, the object local is not found in the local scope, python searches (in the enclosing scope and then) in the global scope afterwards. If it finds the local object here, it prints its value. Let us alter the example to see this:"
   ]
  },
  {
   "cell_type": "code",
   "execution_count": 75,
   "metadata": {},
   "outputs": [
    {
     "name": "stdout",
     "output_type": "stream",
     "text": [
      "1\n"
     ]
    }
   ],
   "source": [
    "local = 1\n",
    "\n",
    "def local_var():\n",
    "    print(local)\n",
    "    \n",
    "local_var()"
   ]
  },
  {
   "cell_type": "markdown",
   "metadata": {},
   "source": [
    "If the object local is defined globally and local, python will use the local scope within the function and the global scope outside the function."
   ]
  },
  {
   "cell_type": "code",
   "execution_count": 76,
   "metadata": {},
   "outputs": [
    {
     "name": "stdout",
     "output_type": "stream",
     "text": [
      "1\n",
      "2\n"
     ]
    }
   ],
   "source": [
    "local = 2\n",
    "\n",
    "def local_var():\n",
    "    local = 1\n",
    "    print(local)\n",
    "    \n",
    "local_var()\n",
    "print(local)"
   ]
  },
  {
   "cell_type": "markdown",
   "metadata": {},
   "source": [
    "...pretty theoretical, but very useful to avoid painful errors in the future. Good standard is to document functions using docstrings. These typically directly follow after declaring the function name and are written within three quotation marks."
   ]
  },
  {
   "cell_type": "code",
   "execution_count": 77,
   "metadata": {},
   "outputs": [],
   "source": [
    "def local_var():\n",
    "    \"\"\"This function assigns a value of 1 to an object called local\n",
    "    and prints this value!\"\"\"\n",
    "    \n",
    "    local = 1\n",
    "    print(local)"
   ]
  },
  {
   "cell_type": "markdown",
   "metadata": {},
   "source": [
    "Using the *help*-function, you can access the docstrings of functions. This is very helpful, when we work with functions written by other users."
   ]
  },
  {
   "cell_type": "code",
   "execution_count": 80,
   "metadata": {},
   "outputs": [
    {
     "name": "stdout",
     "output_type": "stream",
     "text": [
      "Help on function local_var in module __main__:\n",
      "\n",
      "local_var()\n",
      "    This function assigns a value of 1 to an object called local\n",
      "    and prints this value!\n",
      "\n"
     ]
    }
   ],
   "source": [
    "help(local_var)"
   ]
  },
  {
   "cell_type": "markdown",
   "metadata": {},
   "source": [
    "## Control Structures and Looping\n",
    "\n",
    "**Control structures**: In many situations, our operations depend on a condition, e.g., \"...if the weather is good, I will go out, if not, I will stay at home...\". In Python, we work with *if*, *if-else* or *if-elif-else* statements to include state dependent operations. Note that as for functions, the part of the code which belongs to the conditional statement is marked by indentation. Again let us learn by examples:"
   ]
  },
  {
   "cell_type": "code",
   "execution_count": 16,
   "metadata": {},
   "outputs": [
    {
     "name": "stdout",
     "output_type": "stream",
     "text": [
      "a is one!\n",
      "the value of a is not two!\n",
      "thank god its friday!\n"
     ]
    }
   ],
   "source": [
    "#first, we just use an if statement\n",
    "a = 1\n",
    "if a == 1:\n",
    "    print('a is one!')\n",
    "\n",
    "#but if a is not 1, then nothing would happen so\n",
    "#and combined with an else statement\n",
    "if a == 2:\n",
    "    print('a is two!')\n",
    "else:\n",
    "    print('the value of a is not two!')\n",
    "\n",
    "#and if we have more than two conditions, we can handle\n",
    "#this with the elif statement\n",
    "today = 'friday'\n",
    "\n",
    "if today in ['monday', 'tuesday', 'wednesday', 'thursday']:\n",
    "    print('oh no, still work to do...')\n",
    "elif today == 'friday':\n",
    "    print('thank god its friday!')\n",
    "else:\n",
    "    print('it seems weekend has arrived...')"
   ]
  },
  {
   "cell_type": "markdown",
   "metadata": {},
   "source": [
    "When we evaluate conditions, we use comparison which return booleans (True or False). See the following exeamples of various ways for making such comparisons:"
   ]
  },
  {
   "cell_type": "code",
   "execution_count": 19,
   "metadata": {},
   "outputs": [
    {
     "name": "stdout",
     "output_type": "stream",
     "text": [
      "False\n",
      "True\n",
      "True\n",
      "True\n",
      "False\n",
      "False\n",
      "True\n",
      "False\n",
      "True\n",
      "True\n",
      "True\n",
      "False\n"
     ]
    }
   ],
   "source": [
    "a = 10\n",
    "b = 15\n",
    "\n",
    "#evaluate if a is equal to b\n",
    "print(a == b)\n",
    "\n",
    "#evaluate if a is not equal to b\n",
    "print(a != b)\n",
    "\n",
    "#is a smaller than b\n",
    "print(a < b)\n",
    "\n",
    "#is a smaller or equal to b\n",
    "print(a <= b)\n",
    "\n",
    "#is a greater than b\n",
    "print(a > b)\n",
    "\n",
    "#is a greater than or equal to b\n",
    "print(a >= b)\n",
    "\n",
    "#multiple comparisons can be combined by and/or statements\n",
    "print((a != b) and (a < b))\n",
    "print((a == b) and (a < b))\n",
    "print((a == b) or (a < b))\n",
    "\n",
    "#Negation can also be analyzed by the not statement\n",
    "print(not(a == b))\n",
    "\n",
    "#Use in to analyze if a certain element is in an (iterable) object\n",
    "my_list = [1, 2, 3]\n",
    "print(1 in my_list)\n",
    "print(4 in my_list)\n"
   ]
  },
  {
   "cell_type": "markdown",
   "metadata": {},
   "source": [
    "**Looping:** Sometimes we may want to execute operations for a sequence of elements. This can be done by loops, whereby, Python mainly offers the *for* and the *while* loop. The for loops iterates over an object and executes the body marked by indentation for every element in the object."
   ]
  },
  {
   "cell_type": "code",
   "execution_count": 60,
   "metadata": {},
   "outputs": [
    {
     "name": "stdout",
     "output_type": "stream",
     "text": [
      "Peter\n",
      "Andrea\n",
      "John\n"
     ]
    }
   ],
   "source": [
    "persons = ['Peter', 'Andrea', 'John']\n",
    "\n",
    "for i in [0, 1, 2]:\n",
    "    print(persons[i])"
   ]
  },
  {
   "cell_type": "markdown",
   "metadata": {},
   "source": [
    "Very often, the *range* function is used in Python instead of manualy coding a list to iterate over. The range function starts by default at $0$ and counts stepwise to a stop value. Take a look at the different options (and please ignore why we put *list* around the range function here):"
   ]
  },
  {
   "cell_type": "code",
   "execution_count": 54,
   "metadata": {},
   "outputs": [
    {
     "name": "stdout",
     "output_type": "stream",
     "text": [
      "[0, 1, 2, 3, 4]\n",
      "[0, 1, 2, 3, 4]\n",
      "[10, 8, 6, 4, 2, 0, -2, -4, -6, -8, -10]\n"
     ]
    }
   ],
   "source": [
    "print(list(range(5)))\n",
    "print(list(range(0, 5, 1)))\n",
    "print(list(range(10, -12, -2)))"
   ]
  },
  {
   "cell_type": "markdown",
   "metadata": {},
   "source": [
    "So our first example with the *range* function looks like:"
   ]
  },
  {
   "cell_type": "code",
   "execution_count": 61,
   "metadata": {},
   "outputs": [
    {
     "name": "stdout",
     "output_type": "stream",
     "text": [
      "Peter\n",
      "Andrea\n",
      "John\n"
     ]
    }
   ],
   "source": [
    "persons = ['Peter', 'Andrea', 'John']\n",
    "\n",
    "for i in range(3):\n",
    "    print(persons[i])"
   ]
  },
  {
   "cell_type": "markdown",
   "metadata": {},
   "source": [
    "However, Python offers an even more intuitive method, we can also conduct the first example with:"
   ]
  },
  {
   "cell_type": "code",
   "execution_count": 62,
   "metadata": {},
   "outputs": [
    {
     "name": "stdout",
     "output_type": "stream",
     "text": [
      "Peter\n",
      "Andrea\n",
      "John\n"
     ]
    }
   ],
   "source": [
    "persons = ['Peter', 'Andrea', 'John']\n",
    "\n",
    "for person in persons:\n",
    "    print(person)"
   ]
  },
  {
   "cell_type": "markdown",
   "metadata": {},
   "source": [
    "And if we want to gain the information of the position in the list, we can use *enumerate*:"
   ]
  },
  {
   "cell_type": "code",
   "execution_count": 63,
   "metadata": {},
   "outputs": [
    {
     "name": "stdout",
     "output_type": "stream",
     "text": [
      "0 Peter\n",
      "1 Andrea\n",
      "2 John\n"
     ]
    }
   ],
   "source": [
    "persons = ['Peter', 'Andrea', 'John']\n",
    "\n",
    "for i, person in enumerate(persons):\n",
    "    print(str(i) + ' ' + person)"
   ]
  },
  {
   "cell_type": "markdown",
   "metadata": {},
   "source": [
    "If we want to loop over multiple iterables, the *zip* function is our go-to-guy in Python:"
   ]
  },
  {
   "cell_type": "code",
   "execution_count": 66,
   "metadata": {},
   "outputs": [
    {
     "name": "stdout",
     "output_type": "stream",
     "text": [
      "Peter is 23 years old.\n",
      "Andrea is 25 years old.\n",
      "John is 24 years old.\n"
     ]
    }
   ],
   "source": [
    "persons = ['Peter', 'Andrea', 'John']\n",
    "ages = [23, 25, 24]\n",
    "\n",
    "for person, age in zip(persons, ages):\n",
    "    print(person + ' is ' + str(age) + ' years old.')"
   ]
  },
  {
   "cell_type": "markdown",
   "metadata": {},
   "source": [
    "This also works with more than two iterables:"
   ]
  },
  {
   "cell_type": "code",
   "execution_count": 68,
   "metadata": {},
   "outputs": [
    {
     "name": "stdout",
     "output_type": "stream",
     "text": [
      "Peter is 23 years old and is from Munich.\n",
      "Andrea is 25 years old and is from Passau.\n",
      "John is 24 years old and is from Regensburg.\n"
     ]
    }
   ],
   "source": [
    "persons = ['Peter', 'Andrea', 'John']\n",
    "ages = [23, 25, 24]\n",
    "cities = ['Munich', 'Passau', 'Regensburg']\n",
    "\n",
    "for person, age, city in zip(persons, ages, cities):\n",
    "    print(person + ' is ' + str(age) + ' years old ' + 'and is from ' + city + '.')"
   ]
  },
  {
   "cell_type": "markdown",
   "metadata": {},
   "source": [
    "The *while* loop repeatedly executes its body as long as a condition is not fullfilled."
   ]
  },
  {
   "cell_type": "code",
   "execution_count": 69,
   "metadata": {},
   "outputs": [
    {
     "name": "stdout",
     "output_type": "stream",
     "text": [
      "0\n",
      "1\n",
      "2\n",
      "3\n",
      "4\n",
      "5\n"
     ]
    }
   ],
   "source": [
    "a = 0\n",
    "while a <= 5:\n",
    "    print(a)\n",
    "    a = a + 1"
   ]
  },
  {
   "cell_type": "markdown",
   "metadata": {},
   "source": [
    "Be careful that the stopping condition can be achieved, otherwise, the code block runs forever. Especially, when using *for* and *while* loops, the *break* and *continue* signal word can be of use. The former immediately terminates exectution, while the latter skips the current step:"
   ]
  },
  {
   "cell_type": "code",
   "execution_count": 80,
   "metadata": {},
   "outputs": [
    {
     "name": "stdout",
     "output_type": "stream",
     "text": [
      "0\n",
      "1\n",
      "2\n",
      "3\n",
      "4\n",
      "5\n"
     ]
    }
   ],
   "source": [
    "a = 0\n",
    "while True:\n",
    "    print(a)\n",
    "    a += 1\n",
    "    if a > 5:\n",
    "        break"
   ]
  },
  {
   "cell_type": "code",
   "execution_count": 81,
   "metadata": {},
   "outputs": [
    {
     "name": "stdout",
     "output_type": "stream",
     "text": [
      "0\n",
      "1\n",
      "2\n",
      "Skipping this value...\n",
      "4\n"
     ]
    }
   ],
   "source": [
    "for a in range(5):\n",
    "    if a == 3:\n",
    "        print('Skipping this value...')\n",
    "        continue\n",
    "    print(a)"
   ]
  },
  {
   "cell_type": "markdown",
   "metadata": {},
   "source": [
    "## Object Orientation\n",
    "As stated earlier, almost everythin in Python is an object, but what does that mean? Objects typically include different types of information, more concrete attributes and methods. We also have seen that different types of objects exists, e.g. integer numbers, strings, floating numbers, so even an integer of $2$ is not the same as the integer $3$ it is the same type. This is why we can add or multiply these two numbers, but we can not add a string \"hello\" to the integer $2$. Behind these observations stands the concept of object orientation. Objects of the same type follow the same blueprint and objects of different types have different blueprints. The blueprint is called a class in programing. A class is the prototype for objects of the same type. It is not important for the task of data analysis to be an expert in object oriented programing, but it is useful for better understanding some functionalities when working with data analysis applications at a later stage. However, I try to be brief at this point and may omit some information. We directly take a look at an example of a class called *Student* that we define to gather some fundamental knowledge for classes and objects in Python. Regarding its syntax, a class definition looks similar to the definition of a function. The definition starts with *class* and the class name we choose. The content of the class is defined in the indented body. Typically, objects of a class have certain attributes and methods. In Python attributes can be assigned when an object is created on the basis of a class definition, so at initialization. This is handled by the initialization method, which is a special function, called a **magic method** in Pyhton (for the moment, you do not need to care what magic methods are). An important keyword here is self, which simply means we refer to the instance that is created by the class. Typically, self comes first when defining class methods. Ok, but now let us make this concrete and learn from the example.\n",
    "\n",
    "We want to define the class \"Student\" which should contain information regarding the subject, the age and the registration number. These are attributes. Furthermore, we define a method which enables the student to say hello."
   ]
  },
  {
   "cell_type": "code",
   "execution_count": 27,
   "metadata": {},
   "outputs": [],
   "source": [
    "class Student():\n",
    "    \n",
    "    #initialization method\n",
    "    def __init__(self, subject, age, registration_nr):\n",
    "        self.subject = subject\n",
    "        self.age = age\n",
    "        self.registration_nr = registration_nr\n",
    "        \n",
    "    #define a method to say hello to a certain person\n",
    "    def say_hello(self, name):\n",
    "        #now let us say hello and do not get confused by the \n",
    "        #format syntax, this is string formating and we also could\n",
    "        #have written print('Hello' + name + ', how are you?')\n",
    "        #String formating is just more elegant to me\n",
    "        print('Hello {}, how are you?'.format(name))"
   ]
  },
  {
   "cell_type": "code",
   "execution_count": 34,
   "metadata": {},
   "outputs": [
    {
     "name": "stdout",
     "output_type": "stream",
     "text": [
      "Hello Anna, how are you?\n",
      "math\n",
      "24\n",
      "123456\n",
      "------------------------------\n",
      "Hello Peter, how are you?\n",
      "economics\n",
      "27\n",
      "654321\n"
     ]
    }
   ],
   "source": [
    "#Let us define Peter and say hello to Anna\n",
    "Peter = Student(\"math\", 24, \"123456\")\n",
    "Peter.say_hello('Anna')\n",
    "#Let us take a look at Peter's information\n",
    "print(Peter.subject)\n",
    "print(Peter.age)\n",
    "print(Peter.registration_nr)\n",
    "\n",
    "print('-' * 30)\n",
    "\n",
    "#Let us define Anna\n",
    "Anna = Student('economics', 27, \"654321\")\n",
    "Anna.say_hello('Peter')\n",
    "#Let us take a look at Anna's information\n",
    "print(Anna.subject)\n",
    "print(Anna.age)\n",
    "print(Anna.registration_nr)"
   ]
  },
  {
   "cell_type": "markdown",
   "metadata": {},
   "source": [
    "I hope this an example how classes work and what is meant by an object, its attributes and methods. There is so much more to say about this topic, but for the moment, the most important knowledge is that objects can share commonalities defined by their class definition. An object's attributes and methods can be accessed the objects name, a dot and the attributes or methods name (Attributes without brackets, methods with brackets). Furthermore, we can look inside an object using the *dir* function:"
   ]
  },
  {
   "cell_type": "code",
   "execution_count": 35,
   "metadata": {},
   "outputs": [
    {
     "data": {
      "text/plain": [
       "['__class__',\n",
       " '__delattr__',\n",
       " '__dict__',\n",
       " '__dir__',\n",
       " '__doc__',\n",
       " '__eq__',\n",
       " '__format__',\n",
       " '__ge__',\n",
       " '__getattribute__',\n",
       " '__gt__',\n",
       " '__hash__',\n",
       " '__init__',\n",
       " '__init_subclass__',\n",
       " '__le__',\n",
       " '__lt__',\n",
       " '__module__',\n",
       " '__ne__',\n",
       " '__new__',\n",
       " '__reduce__',\n",
       " '__reduce_ex__',\n",
       " '__repr__',\n",
       " '__setattr__',\n",
       " '__sizeof__',\n",
       " '__str__',\n",
       " '__subclasshook__',\n",
       " '__weakref__',\n",
       " 'age',\n",
       " 'registration_nr',\n",
       " 'say_hello',\n",
       " 'subject']"
      ]
     },
     "execution_count": 35,
     "metadata": {},
     "output_type": "execute_result"
    }
   ],
   "source": [
    "dir(Peter)"
   ]
  },
  {
   "cell_type": "markdown",
   "metadata": {},
   "source": [
    "So right now, you should not be surprised when we, for instance, define a string, look inside the object and find it comes along with different methods..."
   ]
  },
  {
   "cell_type": "code",
   "execution_count": 38,
   "metadata": {},
   "outputs": [
    {
     "data": {
      "text/plain": [
       "['__add__',\n",
       " '__class__',\n",
       " '__contains__',\n",
       " '__delattr__',\n",
       " '__dir__',\n",
       " '__doc__',\n",
       " '__eq__',\n",
       " '__format__',\n",
       " '__ge__',\n",
       " '__getattribute__',\n",
       " '__getitem__',\n",
       " '__getnewargs__',\n",
       " '__gt__',\n",
       " '__hash__',\n",
       " '__init__',\n",
       " '__init_subclass__',\n",
       " '__iter__',\n",
       " '__le__',\n",
       " '__len__',\n",
       " '__lt__',\n",
       " '__mod__',\n",
       " '__mul__',\n",
       " '__ne__',\n",
       " '__new__',\n",
       " '__reduce__',\n",
       " '__reduce_ex__',\n",
       " '__repr__',\n",
       " '__rmod__',\n",
       " '__rmul__',\n",
       " '__setattr__',\n",
       " '__sizeof__',\n",
       " '__str__',\n",
       " '__subclasshook__',\n",
       " 'capitalize',\n",
       " 'casefold',\n",
       " 'center',\n",
       " 'count',\n",
       " 'encode',\n",
       " 'endswith',\n",
       " 'expandtabs',\n",
       " 'find',\n",
       " 'format',\n",
       " 'format_map',\n",
       " 'index',\n",
       " 'isalnum',\n",
       " 'isalpha',\n",
       " 'isascii',\n",
       " 'isdecimal',\n",
       " 'isdigit',\n",
       " 'isidentifier',\n",
       " 'islower',\n",
       " 'isnumeric',\n",
       " 'isprintable',\n",
       " 'isspace',\n",
       " 'istitle',\n",
       " 'isupper',\n",
       " 'join',\n",
       " 'ljust',\n",
       " 'lower',\n",
       " 'lstrip',\n",
       " 'maketrans',\n",
       " 'partition',\n",
       " 'replace',\n",
       " 'rfind',\n",
       " 'rindex',\n",
       " 'rjust',\n",
       " 'rpartition',\n",
       " 'rsplit',\n",
       " 'rstrip',\n",
       " 'split',\n",
       " 'splitlines',\n",
       " 'startswith',\n",
       " 'strip',\n",
       " 'swapcase',\n",
       " 'title',\n",
       " 'translate',\n",
       " 'upper',\n",
       " 'zfill']"
      ]
     },
     "execution_count": 38,
     "metadata": {},
     "output_type": "execute_result"
    }
   ],
   "source": [
    "hello = 'hello world'\n",
    "dir(hello)"
   ]
  },
  {
   "cell_type": "markdown",
   "metadata": {},
   "source": [
    "...to find out what a certain method does, you can use the *help* function, e.g.,"
   ]
  },
  {
   "cell_type": "code",
   "execution_count": 37,
   "metadata": {},
   "outputs": [
    {
     "name": "stdout",
     "output_type": "stream",
     "text": [
      "Help on built-in function split:\n",
      "\n",
      "split(sep=None, maxsplit=-1) method of builtins.str instance\n",
      "    Return a list of the words in the string, using sep as the delimiter string.\n",
      "    \n",
      "    sep\n",
      "      The delimiter according which to split the string.\n",
      "      None (the default value) means split according to any whitespace,\n",
      "      and discard empty strings from the result.\n",
      "    maxsplit\n",
      "      Maximum number of splits to do.\n",
      "      -1 (the default value) means no limit.\n",
      "\n"
     ]
    }
   ],
   "source": [
    "help(hello.split)"
   ]
  },
  {
   "cell_type": "code",
   "execution_count": 39,
   "metadata": {},
   "outputs": [
    {
     "data": {
      "text/plain": [
       "['hello', 'world']"
      ]
     },
     "execution_count": 39,
     "metadata": {},
     "output_type": "execute_result"
    }
   ],
   "source": [
    "hello.split()"
   ]
  },
  {
   "cell_type": "markdown",
   "metadata": {},
   "source": [
    "This is enough to know for your start. Later, we will get to know different object types. With the presented procedure of the last cells, we have an idea, how we can find out, what information certain object contain and how to find out, what certain methods of the objects do."
   ]
  },
  {
   "cell_type": "markdown",
   "metadata": {},
   "source": [
    "## Modules and Packages\n",
    "Despite its intuitive syntax and elegant ways of handling things, Python offers another advantage which is probably most important for its popularity. The existence of user-friendly, high-quality packages for data analysis. Imagine, we want to use two functions, the say-hello- and the say-goodby-function, for all our analysis. Instead of defining these to functions for every analysis, we can define them in one script and import this script for each of our analyses. The script is called a **module** and is a collection of statements and definitions. For instance, write the following code in a text editor of your choice and save it with the \".py\" ending (not the \".ipynb\" ending of jupyter notebook files) in the directory of your default anaconda directory under the name \"my_module.py\"."
   ]
  },
  {
   "cell_type": "code",
   "execution_count": 1,
   "metadata": {},
   "outputs": [],
   "source": [
    "#define the say-hello-function\n",
    "def say_hello():\n",
    "    print('hello!')\n",
    "    \n",
    "#define the say-goodbye-function\n",
    "def say_goodbye():\n",
    "    print('goodbye!')"
   ]
  },
  {
   "cell_type": "markdown",
   "metadata": {},
   "source": [
    "Now, open a juypter notebook and type the following:"
   ]
  },
  {
   "cell_type": "code",
   "execution_count": 3,
   "metadata": {},
   "outputs": [
    {
     "name": "stdout",
     "output_type": "stream",
     "text": [
      "hello!\n",
      "goodbye!\n"
     ]
    }
   ],
   "source": [
    "import my_module\n",
    "\n",
    "my_module.say_hello()\n",
    "my_module.say_goodbye()"
   ]
  },
  {
   "cell_type": "markdown",
   "metadata": {},
   "source": [
    "I hope you get the idea what a module is. As indicated by the dot usage of functions, the module can be seen as an object and the functions defined in the my_module script are its methods. Two further options exist for importing content of my_module. First, if you want import all methods and directly use the function you can do this:"
   ]
  },
  {
   "cell_type": "code",
   "execution_count": 6,
   "metadata": {},
   "outputs": [
    {
     "name": "stdout",
     "output_type": "stream",
     "text": [
      "hello!\n",
      "goodbye!\n"
     ]
    }
   ],
   "source": [
    "from my_module import *\n",
    "\n",
    "say_hello()\n",
    "say_goodbye()"
   ]
  },
  {
   "cell_type": "markdown",
   "metadata": {},
   "source": [
    "Or, if you want to directly import certain methods from my_module, you can do this:"
   ]
  },
  {
   "cell_type": "code",
   "execution_count": 7,
   "metadata": {},
   "outputs": [
    {
     "name": "stdout",
     "output_type": "stream",
     "text": [
      "hello!\n"
     ]
    }
   ],
   "source": [
    "from my_module import say_hello\n",
    "\n",
    "say_hello()"
   ]
  },
  {
   "cell_type": "markdown",
   "metadata": {},
   "source": [
    "Modules can have submodules with a nested structure. A collection of modules with a certain structure is called a **package** and this is were it gets very interesting for Python users. A multitude of packages exists including an immense amount of efficiently written methods for various tasks. For us, very important packages are [numpy](https://numpy.org/) among others offering a broad range of calculus methods, [pandas](https://pandas.pydata.org/) for data handling, [scikit](https://scikit-learn.org/stable/) for machine learning methods, [tensorflow](https://www.tensorflow.org/) for deep learning, [plotly](https://plotly.com/) for interactive visualization or [matplotlib](https://matplotlib.org/) for static visualization. All packages exhibit a good documentation and are worth exploring, however, in my experience, the best ways of learning the usage of these packages is to do this with a hands-on-approach which we will follow during the course. If you installed Anaconda, a few of these packages are installed with the Python base package. However, you may encounter situations in which you need to install external packages. Packages are managed by online repositories, i.e. Conda or Pypi. If you want to install a package from one of these repositories, the best way is to open the terminal and type *conda* (or *pip*) and the package name. Further options can be used for installation, but this is not too important in the beginning. For more information see [this link](https://docs.conda.io/projects/conda/en/latest/user-guide/concepts/installing-with-conda.html). To give you an idea, how we will work with packages, we close this chapter with an example which shows you how to import the package numpy and use it to define two matrices and multiply these two. "
   ]
  },
  {
   "cell_type": "code",
   "execution_count": 14,
   "metadata": {},
   "outputs": [
    {
     "name": "stdout",
     "output_type": "stream",
     "text": [
      "[[1 2]\n",
      " [3 4]]\n",
      "[[4 3]\n",
      " [2 1]]\n"
     ]
    },
    {
     "data": {
      "text/plain": [
       "array([[ 8,  5],\n",
       "       [20, 13]])"
      ]
     },
     "execution_count": 14,
     "metadata": {},
     "output_type": "execute_result"
    }
   ],
   "source": [
    "import numpy as np\n",
    "\n",
    "A = np.array([[1, 2], [3, 4]])\n",
    "B = np.array([[4, 3], [2, 1]])\n",
    "\n",
    "print(A)\n",
    "print(B)\n",
    "\n",
    "np.matmul(A, B)"
   ]
  }
 ],
 "metadata": {
  "celltoolbar": "Edit Metadata",
  "kernelspec": {
   "display_name": "Python 3",
   "language": "python",
   "name": "python3"
  },
  "language_info": {
   "codemirror_mode": {
    "name": "ipython",
    "version": 3
   },
   "file_extension": ".py",
   "mimetype": "text/x-python",
   "name": "python",
   "nbconvert_exporter": "python",
   "pygments_lexer": "ipython3",
   "version": "3.8.3"
  }
 },
 "nbformat": 4,
 "nbformat_minor": 4
}