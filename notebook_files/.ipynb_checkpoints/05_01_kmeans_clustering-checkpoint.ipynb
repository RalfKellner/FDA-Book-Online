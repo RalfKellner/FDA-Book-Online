{
 "cells": [
  {
   "cell_type": "markdown",
   "metadata": {},
   "source": [
    "# K-means Clustering\n",
    "\n",
    "K-means clustering is a popular method for dividing a collection of observations of multiple variables $\\boldsymbol{X}_i$ into $k$ clusters. It is important to know, that the number of clusters has to be chosen by the user and that, originally, only metric variables should be used for the k-means algorithm. If your dataset contains categorical variables as well, you should search for further development of k-means, e.g., k-metroids or k-modes.\n",
    "\n",
    "## How it works\n",
    "\n",
    "If you recall the methods discussed in the supervised learning section, you notice that each model is estimated by optimizing an objective function. Typically, the function is defined as a loss function which is minimized. The smaller the loss function, the more estimated targets correspond to actual target observations. But for unsupervised, we do not have any targets, so what should we do? When are we satisfied with a certain partition?\n",
    "\n",
    "The aim for a well working clustering algorithm is to divide the dataset in different clusters such that observations within a cluster are more similar to each other than to observations from another cluster. How do we measure similarity?\n",
    "\n",
    "For k-means clustering, similarity between two observations $\\boldsymbol{x_i}$, $\\boldsymbol{x_j}$ is typically measured by their distance and quantified with Euclidean distance is used:\n",
    "\n",
    "$$\n",
    "d\\left( \\boldsymbol{x_i}, \\boldsymbol{x_{j}} \\right) = \\sum_{q = 1}^{n} (x_{iq} - x_{jq})^2 = || \\boldsymbol{x_i} - \\boldsymbol{x_{j}} ||_2^2 \n",
    "$$\n",
    "\n",
    "with \n",
    "\n",
    "$$\n",
    "\\boldsymbol{x_i} =  (x_{i1}, ... , x_{in})^T,  \\boldsymbol{x_j} =  (x_{j1}, ... , x_{jn})^T~~~ i,j = 1, ..., m\n",
    "$$\n",
    "\n",
    "Let us take a look at a small example, imagine we have two features $X_1, X_2$ and three observations:"
   ]
  },
  {
   "cell_type": "markdown",
   "metadata": {},
   "source": [
    "<table>\n",
    "    <tr> \n",
    "        <th> $X_1$ <th/>\n",
    "        <th> $X_2$ <th/>\n",
    "    <tr/>\n",
    "    <tr>\n",
    "        <td> $0.5$ <td/>\n",
    "        <td> $2$   <td/>\n",
    "    <tr/>\n",
    "    <tr>\n",
    "        <td> $1$   <td/>\n",
    "        <td> $1$   <td/>\n",
    "    <tr/>\n",
    "    <tr>\n",
    "        <td> $2$   <td/>\n",
    "        <td> $5$   <td/>\n",
    "    <tr/>\n",
    "<table/>"
   ]
  },
  {
   "cell_type": "markdown",
   "metadata": {},
   "source": [
    "$d\\left( \\boldsymbol{x}_1, \\boldsymbol{x}_2\\right) = (0.5 - 1)^2 + (2 - 1)^2 = 1.25$\n",
    "\n",
    "$d\\left( \\boldsymbol{x}_1, \\boldsymbol{x}_3\\right) = (0.5 - 2)^2 + (2 - 5)^2 = 11.25$\n",
    "\n",
    "$d\\left( \\boldsymbol{x}_2, \\boldsymbol{x}_3\\right) = (1 - 2)^2 + (1 - 5)^2 = 17$"
   ]
  },
  {
   "cell_type": "markdown",
   "metadata": {},
   "source": [
    "If we illustrate this in two dimensional space, the following figure results. You can see that points with lower distance are closer to each other graphically."
   ]
  },
  {
   "cell_type": "code",
   "execution_count": 21,
   "metadata": {
    "tags": [
     "hide-input"
    ]
   },
   "outputs": [
    {
     "data": {
      "image/png": "[encoded data removed]",
      "text/plain": [
       "<Figure size 432x288 with 1 Axes>"
      ]
     },
     "metadata": {
      "needs_background": "light"
     },
     "output_type": "display_data"
    }
   ],
   "source": [
    "import matplotlib.pylab as plt\n",
    "\n",
    "x_1 = [1, 2, 0.5]\n",
    "x_2 = [1, 5, 2]\n",
    "\n",
    "plt.scatter(x_1, x_2, color = 'black')\n",
    "plt.plot([0.5, 1], [2, 1])\n",
    "plt.plot([1, 2], [1, 5])\n",
    "plt.plot([0.5, 2], [2, 5])\n",
    "plt.xlabel(r'$X_1$')\n",
    "plt.ylabel(r'$X_2$')\n",
    "plt.title('Two dimensional space')\n",
    "plt.xticks([0, 1, 2, 3])\n",
    "plt.yticks([0, 1, 2, 3, 4, 5, 6])\n",
    "plt.show()"
   ]
  },
  {
   "cell_type": "markdown",
   "metadata": {},
   "source": [
    "For very high dimensions, Euclidean distance may be replaced by other metrics, e.g. cosine similarity. \n",
    "\n",
    "Essential for assigning observations to a specific cluster is to define representatives for each cluster which we denote as $\\boldsymbol{\\mu}_k$. You may picture each representative as the average member of a cluster. \n",
    "\n",
    "The overall goal when clustering data according to the k-means algorithm is to minimize within cluster variation by choosing cluster assignment $C(i) = k$ and representatives $\\boldsymbol{\\mu}_k$. The resulting objective is given by:\n",
    "\n",
    "$$\n",
    "\\min \\limits_{C, \\boldsymbol{\\mu}_1, ..., \\boldsymbol{\\mu}_K}  \\sum_{k = 1}^K \\sum_{i = 1}^m d\\left(\\boldsymbol{x}_i, \\boldsymbol{\\mu}_k \\right) \\cdot \\mathbb{I}_{C(i) = k} = \\sum_{k = 1}^K \\sum_{i = 1}^m  || \\boldsymbol{x}_i, \\boldsymbol{\\mu}_k ||_2^2 \\cdot \\mathbb{I}_{C(i) = k}\n",
    "$$\n",
    "\n",
    "$\\mathbb{I}_{C(i) = k}$ is just an indicator which is equal to one if observation $i$ is assigned to cluster $k$, and zero otherwise. Fortunately, we do not need to care much about the choice for each $\\boldsymbol{\\mu}_k$, because for each cluster, it holds that:\n",
    "\n",
    "$$\n",
    "\\bar{\\boldsymbol{x}_k} = \\arg \\min_\\limits{\\boldsymbol{\\mu}_k} \\sum_{C(i) = k} || \\boldsymbol{x}_i - \\boldsymbol{\\mu}_k ||_2^2\n",
    "$$\n",
    "\n",
    "which means that the **centroid** for each cluster is best chosen by the average vector of observations in this cluster. To minimize the overall objective, one follows the following algorithm:\n",
    "\n",
    "1. Initialize $k$ centroids and assign each observation to cluster $k$ with least to distance to its centroid\n",
    "2. Repeat the following, until centroids do not change anymore or centroid changes stay below a specified threshold:\n",
    "    * Generate new centroids by averaging observations in the current cluster.\n",
    "    * Assign observations again by minimum distance to centroids.\n",
    "    \n",
    "This procedure will always converge (at leas to a local minimum), but is sensitive towards the initial centroids. This is why one may to repeat the estimation process with different starting values or directly use the \"k-means++\" scheme which is implemented in the sklearn k-means algorithm."
   ]
  },
  {
   "cell_type": "code",
   "execution_count": null,
   "metadata": {},
   "outputs": [],
   "source": []
  },
  {
   "cell_type": "code",
   "execution_count": null,
   "metadata": {},
   "outputs": [],
   "source": []
  },
  {
   "cell_type": "code",
   "execution_count": null,
   "metadata": {},
   "outputs": [],
   "source": []
  },
  {
   "cell_type": "code",
   "execution_count": null,
   "metadata": {},
   "outputs": [],
   "source": []
  }
 ],
 "metadata": {
  "celltoolbar": "Tags",
  "kernelspec": {
   "display_name": "Python 3",
   "language": "python",
   "name": "python3"
  },
  "language_info": {
   "codemirror_mode": {
    "name": "ipython",
    "version": 3
   },
   "file_extension": ".py",
   "mimetype": "text/x-python",
   "name": "python",
   "nbconvert_exporter": "python",
   "pygments_lexer": "ipython3",
   "version": "3.8.3"
  }
 },
 "nbformat": 4,
 "nbformat_minor": 4
}
